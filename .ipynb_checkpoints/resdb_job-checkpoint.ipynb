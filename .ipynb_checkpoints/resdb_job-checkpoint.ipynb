{
 "cells": [
  {
   "cell_type": "code",
   "execution_count": 87,
   "id": "f67d9feb",
   "metadata": {},
   "outputs": [],
   "source": [
    "import time\n",
    "import re\n",
    "import pylab as pl\n",
    "import numpy as np\n",
    "import pylab as pl\n",
    "\n",
    "from datetime import datetime, timedelta\n",
    "\n",
    "import subprocess\n",
    "\n",
    "import os\n",
    "import pandas as pd\n",
    "\n",
    "import concurrent.futures\n",
    "\n",
    "\n",
    "from joblib import Parallel, delayed\n",
    "import shutil\n",
    "\n",
    "\n",
    "from concurrent.futures import ThreadPoolExecutor, ProcessPoolExecutor\n",
    "import subprocess"
   ]
  },
  {
   "cell_type": "code",
   "execution_count": 88,
   "id": "1b0063a5",
   "metadata": {
    "scrolled": true
   },
   "outputs": [
    {
     "name": "stderr",
     "output_type": "stream",
     "text": [
      "ERROR: (gcloud.compute.instances.delete) argument INSTANCE_NAMES [INSTANCE_NAMES ...]: Must be specified.\n",
      "Usage: gcloud compute instances delete INSTANCE_NAMES [INSTANCE_NAMES ...] [optional flags]\n",
      "  optional flags may be  --delete-disks | --help | --keep-disks | --zone\n",
      "\n",
      "For detailed information on this command and its flags, run:\n",
      "  gcloud compute instances delete --help\n",
      "ERROR: (gcloud.compute.instances.delete) argument INSTANCE_NAMES [INSTANCE_NAMES ...]: Must be specified.\n",
      "Usage: gcloud compute instances delete INSTANCE_NAMES [INSTANCE_NAMES ...] [optional flags]\n",
      "  optional flags may be  --delete-disks | --help | --keep-disks | --zone\n",
      "\n",
      "For detailed information on this command and its flags, run:\n",
      "  gcloud compute instances delete --help\n",
      "ERROR: (gcloud.compute.instances.delete) argument INSTANCE_NAMES [INSTANCE_NAMES ...]: Must be specified.\n",
      "Usage: gcloud compute instances delete INSTANCE_NAMES [INSTANCE_NAMES ...] [optional flags]\n",
      "  optional flags may be  --delete-disks | --help | --keep-disks | --zone\n",
      "\n",
      "For detailed information on this command and its flags, run:\n",
      "  gcloud compute instances delete --help\n"
     ]
    },
    {
     "data": {
      "text/plain": [
       "512"
      ]
     },
     "execution_count": 88,
     "metadata": {},
     "output_type": "execute_result"
    }
   ],
   "source": [
    "os.system('gcloud compute instances delete --zone=europe-west3-c --quiet $(gcloud compute instances list --format=\"value(name)\")')\n",
    "os.system('gcloud compute instances delete --zone=asia-south1-c --quiet $(gcloud compute instances list --format=\"value(name)\")')\n",
    "os.system('gcloud compute instances delete --zone=us-west1-b --quiet $(gcloud compute instances list --format=\"value(name)\")')   \n",
    "\n"
   ]
  },
  {
   "cell_type": "code",
   "execution_count": 89,
   "id": "db92bd73",
   "metadata": {},
   "outputs": [
    {
     "name": "stdout",
     "output_type": "stream",
     "text": [
      "[master f71713d] fixes\n",
      " 2 files changed, 62 insertions(+), 1 deletion(-)\n",
      " create mode 100644 node_setup/global_6cls.csv\n"
     ]
    },
    {
     "name": "stderr",
     "output_type": "stream",
     "text": [
      "To github.com:draznm/resDB.git\n",
      "   4446132..f71713d  HEAD -> master\n"
     ]
    },
    {
     "data": {
      "text/plain": [
       "0"
      ]
     },
     "execution_count": 89,
     "metadata": {},
     "output_type": "execute_result"
    }
   ],
   "source": [
    "os.system('git add .; git commit -m \"fixes\"; git push -f origin HEAD:master')\n"
   ]
  },
  {
   "cell_type": "code",
   "execution_count": 61,
   "id": "13b94375",
   "metadata": {},
   "outputs": [],
   "source": [
    "config_list = ['global_6cls']\n"
   ]
  },
  {
   "cell_type": "code",
   "execution_count": 62,
   "id": "9d2294fa",
   "metadata": {
    "scrolled": true
   },
   "outputs": [
    {
     "name": "stdout",
     "output_type": "stream",
     "text": [
      "{'node_id': {0: 0, 1: 1, 2: 2, 3: 3, 4: 4, 5: 5, 6: 6, 7: 7, 8: 8, 9: 9, 10: 10, 11: 11, 12: 12, 13: 13, 14: 14, 15: 15, 16: 16, 17: 17, 18: 18, 19: 19, 20: 20, 21: 21, 22: 22, 23: 23, 24: 24, 25: 25, 26: 26, 27: 27, 28: 28, 29: 29, 30: 30, 31: 31, 32: 32, 33: 33, 34: 34, 35: 35, 36: 36, 37: 37, 38: 38, 39: 39, 40: 40, 41: 41, 42: 42, 43: 43, 44: 44, 45: 45, 46: 46, 47: 47, 48: 48, 49: 49, 50: 50, 51: 51, 52: 52, 53: 53, 54: 54, 55: 55, 56: 56, 57: 57, 58: 58, 59: 59, 60: 60, 61: 61, 62: 62, 63: 63, 64: 64, 65: 65, 66: 66, 67: 67, 68: 68, 69: 69, 70: 70, 71: 71}, 'region': {0: \" 'us-west1-b'\", 1: \" 'us-west1-b'\", 2: \" 'us-west1-b'\", 3: \" 'us-west1-b'\", 4: \" 'us-west1-b'\", 5: \" 'us-west1-b'\", 6: \" 'us-west1-b'\", 7: \" 'us-west1-b'\", 8: \" 'us-west1-b'\", 9: \" 'us-west1-b'\", 10: \" 'us-west1-b'\", 11: \" 'us-west1-b'\", 12: \" 'us-west1-b'\", 13: \" 'us-west1-b'\", 14: \" 'us-west1-b'\", 15: \" 'us-west1-b'\", 16: \" 'us-west1-b'\", 17: \" 'us-west1-b'\", 18: \" 'us-west1-b'\", 19: \" 'us-west1-b'\", 20: \" 'us-west1-b'\", 21: \" 'us-west1-b'\", 22: \" 'us-west1-b'\", 23: \" 'us-west1-b'\", 24: \" 'us-west1-b'\", 25: \" 'us-west1-b'\", 26: \" 'us-west1-b'\", 27: \" 'us-west1-b'\", 28: \" 'us-west1-b'\", 29: \" 'us-west1-b'\", 30: \" 'us-west1-b'\", 31: \" 'us-west1-b'\", 32: \" 'us-west1-b'\", 33: \" 'us-west1-b'\", 34: \" 'us-west1-b'\", 35: \" 'us-west1-b'\", 36: \" 'us-west1-b'\", 37: \" 'us-west1-b'\", 38: \" 'us-west1-b'\", 39: \" 'us-west1-b'\", 40: \" 'us-west1-b'\", 41: \" 'us-west1-b'\", 42: \" 'us-west1-b'\", 43: \" 'us-west1-b'\", 44: \" 'us-west1-b'\", 45: \" 'us-west1-b'\", 46: \" 'us-west1-b'\", 47: \" 'us-west1-b'\", 48: \" 'us-west1-b'\", 49: \" 'us-west1-b'\", 50: \" 'us-west1-b'\", 51: \" 'us-west1-b'\", 52: \" 'us-west1-b'\", 53: \" 'us-west1-b'\", 54: \" 'us-west1-b'\", 55: \" 'us-west1-b'\", 56: \" 'us-west1-b'\", 57: \" 'us-west1-b'\", 58: \" 'us-west1-b'\", 59: \" 'us-west1-b'\", 60: \" 'us-west1-b'\", 61: \" 'us-west1-b'\", 62: \" 'us-west1-b'\", 63: \" 'us-west1-b'\", 64: \" 'us-west1-b'\", 65: \" 'us-west1-b'\", 66: \" 'us-west1-b'\", 67: \" 'us-west1-b'\", 68: \" 'us-west1-b'\", 69: \" 'us-west1-b'\", 70: \" 'us-west1-b'\", 71: \" 'us-west1-b'\"}, 'ServerOrClientregion': {0: 0, 1: 0, 2: 0, 3: 0, 4: 0, 5: 0, 6: 0, 7: 0, 8: 0, 9: 0, 10: 0, 11: 0, 12: 0, 13: 0, 14: 0, 15: 0, 16: 1, 17: 1, 18: 1, 19: 1, 20: 1, 21: 1, 22: 1, 23: 1, 24: 0, 25: 0, 26: 0, 27: 0, 28: 0, 29: 0, 30: 0, 31: 0, 32: 0, 33: 0, 34: 0, 35: 0, 36: 0, 37: 0, 38: 0, 39: 0, 40: 1, 41: 1, 42: 1, 43: 1, 44: 1, 45: 1, 46: 1, 47: 1, 48: 0, 49: 0, 50: 0, 51: 0, 52: 0, 53: 0, 54: 0, 55: 0, 56: 0, 57: 0, 58: 0, 59: 0, 60: 0, 61: 0, 62: 0, 63: 0, 64: 1, 65: 1, 66: 1, 67: 1, 68: 1, 69: 1, 70: 1, 71: 1}, 'cluster_id': {0: 0, 1: 0, 2: 0, 3: 0, 4: 0, 5: 0, 6: 1, 7: 1, 8: 1, 9: 1, 10: 1, 11: 1, 12: 2, 13: 2, 14: 2, 15: 2, 16: -1, 17: -1, 18: -1, 19: -1, 20: -1, 21: -1, 22: -1, 23: -1, 24: 2, 25: 2, 26: 3, 27: 3, 28: 3, 29: 3, 30: 3, 31: 3, 32: 4, 33: 4, 34: 4, 35: 4, 36: 4, 37: 4, 38: 5, 39: 5, 40: -1, 41: -1, 42: -1, 43: -1, 44: -1, 45: -1, 46: -1, 47: -1, 48: 5, 49: 5, 50: 5, 51: 5, 52: 6, 53: 6, 54: 6, 55: 6, 56: 6, 57: 6, 58: 7, 59: 7, 60: 7, 61: 7, 62: 7, 63: 7, 64: -1, 65: -1, 66: -1, 67: -1, 68: -1, 69: -1, 70: -1, 71: -1}, 'key_file': {0: \" 'FKA.pem'\", 1: \" 'FKA.pem'\", 2: \" 'FKA.pem'\", 3: \" 'FKA.pem'\", 4: \" 'FKA.pem'\", 5: \" 'FKA.pem'\", 6: \" 'FKA.pem'\", 7: \" 'FKA.pem'\", 8: \" 'FKA.pem'\", 9: \" 'FKA.pem'\", 10: \" 'FKA.pem'\", 11: \" 'FKA.pem'\", 12: \" 'FKA.pem'\", 13: \" 'FKA.pem'\", 14: \" 'FKA.pem'\", 15: \" 'FKA.pem'\", 16: \" 'FKA.pem'\", 17: \" 'FKA.pem'\", 18: \" 'FKA.pem'\", 19: \" 'FKA.pem'\", 20: \" 'FKA.pem'\", 21: \" 'FKA.pem'\", 22: \" 'FKA.pem'\", 23: \" 'FKA.pem'\", 24: \" 'FKE.pem'\", 25: \" 'FKE.pem'\", 26: \" 'FKE.pem'\", 27: \" 'FKE.pem'\", 28: \" 'FKE.pem'\", 29: \" 'FKE.pem'\", 30: \" 'FKE.pem'\", 31: \" 'FKE.pem'\", 32: \" 'FKE.pem'\", 33: \" 'FKE.pem'\", 34: \" 'FKE.pem'\", 35: \" 'FKE.pem'\", 36: \" 'FKE.pem'\", 37: \" 'FKE.pem'\", 38: \" 'FKE.pem'\", 39: \" 'FKE.pem'\", 40: \" 'FKE.pem'\", 41: \" 'FKE.pem'\", 42: \" 'FKE.pem'\", 43: \" 'FKE.pem'\", 44: \" 'FKE.pem'\", 45: \" 'FKE.pem'\", 46: \" 'FKE.pem'\", 47: \" 'FKE.pem'\", 48: \" 'FKU2.pem'\", 49: \" 'FKU2.pem'\", 50: \" 'FKU2.pem'\", 51: \" 'FKU2.pem'\", 52: \" 'FKU2.pem'\", 53: \" 'FKU2.pem'\", 54: \" 'FKU2.pem'\", 55: \" 'FKU2.pem'\", 56: \" 'FKU2.pem'\", 57: \" 'FKU2.pem'\", 58: \" 'FKU2.pem'\", 59: \" 'FKU2.pem'\", 60: \" 'FKU2.pem'\", 61: \" 'FKU2.pem'\", 62: \" 'FKU2.pem'\", 63: \" 'FKU2.pem'\", 64: \" 'FKU2.pem'\", 65: \" 'FKU2.pem'\", 66: \" 'FKU2.pem'\", 67: \" 'FKU2.pem'\", 68: \" 'FKU2.pem'\", 69: \" 'FKU2.pem'\", 70: \" 'FKU2.pem'\", 71: \" 'FKU2.pem'\"}, 'clientID': {0: -1, 1: -1, 2: -1, 3: -1, 4: -1, 5: -1, 6: -1, 7: -1, 8: -1, 9: -1, 10: -1, 11: -1, 12: -1, 13: -1, 14: -1, 15: -1, 16: 0, 17: 1, 18: 2, 19: 3, 20: 4, 21: 5, 22: 6, 23: 7, 24: -1, 25: -1, 26: -1, 27: -1, 28: -1, 29: -1, 30: -1, 31: -1, 32: -1, 33: -1, 34: -1, 35: -1, 36: -1, 37: -1, 38: -1, 39: -1, 40: 8, 41: 9, 42: 10, 43: 11, 44: 12, 45: 13, 46: 14, 47: 15, 48: -1, 49: -1, 50: -1, 51: -1, 52: -1, 53: -1, 54: -1, 55: -1, 56: -1, 57: -1, 58: -1, 59: -1, 60: -1, 61: -1, 62: -1, 63: -1, 64: 16, 65: 17, 66: 18, 67: 19, 68: 20, 69: 21, 70: 22, 71: 23}, 'ServerID': {0: 0, 1: 1, 2: 2, 3: 3, 4: 4, 5: 5, 6: 6, 7: 7, 8: 8, 9: 9, 10: 10, 11: 11, 12: 12, 13: 13, 14: 14, 15: 15, 16: -1, 17: -1, 18: -1, 19: -1, 20: -1, 21: -1, 22: -1, 23: -1, 24: 16, 25: 17, 26: 18, 27: 19, 28: 20, 29: 21, 30: 22, 31: 23, 32: 24, 33: 25, 34: 26, 35: 27, 36: 28, 37: 29, 38: 30, 39: 31, 40: -1, 41: -1, 42: -1, 43: -1, 44: -1, 45: -1, 46: -1, 47: -1, 48: 32, 49: 33, 50: 34, 51: 35, 52: 36, 53: 37, 54: 38, 55: 39, 56: 40, 57: 41, 58: 42, 59: 43, 60: 44, 61: 45, 62: 46, 63: 47, 64: -1, 65: -1, 66: -1, 67: -1, 68: -1, 69: -1, 70: -1, 71: -1}, ' PublicIp': {0: nan, 1: nan, 2: nan, 3: nan, 4: nan, 5: nan, 6: nan, 7: nan, 8: nan, 9: nan, 10: nan, 11: nan, 12: nan, 13: nan, 14: nan, 15: nan, 16: nan, 17: nan, 18: nan, 19: nan, 20: nan, 21: nan, 22: nan, 23: nan, 24: nan, 25: nan, 26: nan, 27: nan, 28: nan, 29: nan, 30: nan, 31: nan, 32: nan, 33: nan, 34: nan, 35: nan, 36: nan, 37: nan, 38: nan, 39: nan, 40: nan, 41: nan, 42: nan, 43: nan, 44: nan, 45: nan, 46: nan, 47: nan, 48: nan, 49: nan, 50: nan, 51: nan, 52: nan, 53: nan, 54: nan, 55: nan, 56: nan, 57: nan, 58: nan, 59: nan, 60: nan, 61: nan, 62: nan, 63: nan, 64: nan, 65: nan, 66: nan, 67: nan, 68: nan, 69: nan, 70: nan, 71: nan}}\n"
     ]
    }
   ],
   "source": [
    "for cfig in config_list:    \n",
    "    os.system('rm node_info.csv')\n",
    "    os.system('cp node_setup/'+cfig+'.csv node_info.csv')\n",
    "    \n",
    "    \n",
    "    df =pd.read_csv('node_info.csv')\n",
    "\n",
    "    node_info_dict = df.to_dict()\n",
    "\n",
    "    print(node_info_dict)\n",
    "\n",
    "    lines  = []\n",
    "\n",
    "    for idx, key in enumerate( node_info_dict['region'].keys()):\n",
    "        cmd =  'gcloud compute instances create resdb-'+f\"{idx:03}\"+' --project=ucr-ursa-major-lesani-lab --zone='+node_info_dict['region'][key].strip()[1:-1]+' --machine-type=e2-standard-2 --network-interface=network-tier=PREMIUM,stack-type=IPV4_ONLY,subnet=default \\\n",
    "        --can-ip-forward \\\n",
    "        --maintenance-policy=MIGRATE \\\n",
    "        --provisioning-model=STANDARD \\\n",
    "        --service-account=961693926925-compute@developer.gserviceaccount.com \\\n",
    "        --scopes=https://www.googleapis.com/auth/devstorage.read_only,https://www.googleapis.com/auth/logging.write,https://www.googleapis.com/auth/monitoring.write,https://www.googleapis.com/auth/service.management.readonly,https://www.googleapis.com/auth/servicecontrol,https://www.googleapis.com/auth/trace.append \\\n",
    "        --tags=http-server,https-server \\\n",
    "        --create-disk=auto-delete=yes,boot=yes,device-name=instance-20250210-072748,image=projects/ubuntu-os-cloud/global/images/ubuntu-2004-focal-v20250130,mode=rw,size=20,type=pd-balanced \\\n",
    "        --no-shielded-secure-boot \\\n",
    "        --shielded-vtpm \\\n",
    "        --shielded-integrity-monitoring \\\n",
    "        --labels=goog-ec-src=vm_add-gcloud \\\n",
    "        --reservation-affinity=any'\n",
    "\n",
    "        lines.append(cmd)\n",
    "\n",
    "\n",
    "    lines\n",
    "\n",
    "\n",
    "    def run_command(command):\n",
    "        subprocess.call(command, shell=True)\n",
    "\n",
    "    commands = lines\n",
    "\n",
    "#     # Create a ThreadPoolExecutor or ProcessPoolExecutor, depending on your needs\n",
    "#     with concurrent.futures.ThreadPoolExecutor(max_workers=60) as executor:\n",
    "#         # Submit each command to the executor for parallel execution\n",
    "#         futures = [executor.submit(run_command, command) for command in commands]\n",
    "\n",
    "#         # Wait for all tasks to complete\n",
    "#         concurrent.futures.wait(futures)\n",
    "        \n",
    "#     time.sleep(60)\n",
    "    \n",
    "    os.system('gcloud compute instances list  --format=\"value(networkInterfaces[0].networkIP)\" '+\\\n",
    "                  ' > temp.txt')\n",
    "    \n",
    "    "
   ]
  },
  {
   "cell_type": "code",
   "execution_count": 63,
   "id": "071e94c3",
   "metadata": {},
   "outputs": [],
   "source": [
    "with open('temp.txt') as f:\n",
    "    ipList = f.read().splitlines()\n",
    "ipList = [x for x in ipList if x!='None']"
   ]
  },
  {
   "cell_type": "code",
   "execution_count": 64,
   "id": "d45a22f6",
   "metadata": {
    "scrolled": true
   },
   "outputs": [
    {
     "data": {
      "text/plain": [
       "72"
      ]
     },
     "execution_count": 64,
     "metadata": {},
     "output_type": "execute_result"
    }
   ],
   "source": [
    "len(lines)"
   ]
  },
  {
   "cell_type": "code",
   "execution_count": 65,
   "id": "91a361a2",
   "metadata": {},
   "outputs": [
    {
     "data": {
      "text/plain": [
       "(['10.138.0.40',\n",
       "  '10.138.0.38',\n",
       "  '10.138.0.59',\n",
       "  '10.138.0.12',\n",
       "  '10.138.0.25',\n",
       "  '10.138.0.2',\n",
       "  '10.138.0.42',\n",
       "  '10.138.0.116',\n",
       "  '10.138.15.219',\n",
       "  '10.138.0.69',\n",
       "  '10.138.0.32',\n",
       "  '10.138.0.20',\n",
       "  '10.138.0.34',\n",
       "  '10.138.0.52',\n",
       "  '10.138.0.50',\n",
       "  '10.138.0.57',\n",
       "  '10.138.0.19',\n",
       "  '10.138.0.71',\n",
       "  '10.138.0.44',\n",
       "  '10.138.0.4',\n",
       "  '10.138.0.13',\n",
       "  '10.138.0.6',\n",
       "  '10.138.0.29',\n",
       "  '10.138.0.37',\n",
       "  '10.138.0.11',\n",
       "  '10.138.0.24',\n",
       "  '10.138.0.72',\n",
       "  '10.138.0.100',\n",
       "  '10.138.0.54',\n",
       "  '10.138.0.14',\n",
       "  '10.138.0.46',\n",
       "  '10.138.0.8',\n",
       "  '10.138.0.15',\n",
       "  '10.138.0.9',\n",
       "  '10.138.0.65',\n",
       "  '10.138.0.56',\n",
       "  '10.138.0.21',\n",
       "  '10.138.0.33',\n",
       "  '10.138.0.27',\n",
       "  '10.138.15.212',\n",
       "  '10.138.0.7',\n",
       "  '10.138.0.60',\n",
       "  '10.138.0.23',\n",
       "  '10.138.0.26',\n",
       "  '10.138.15.226',\n",
       "  '10.138.15.227',\n",
       "  '10.138.15.228',\n",
       "  '10.138.15.229'],\n",
       " 48,\n",
       " ['10.138.0.18',\n",
       "  '10.138.0.90',\n",
       "  '10.138.0.47',\n",
       "  '10.138.15.215',\n",
       "  '10.138.0.41',\n",
       "  '10.138.0.36',\n",
       "  '10.138.0.78',\n",
       "  '10.138.0.45',\n",
       "  '10.138.0.94',\n",
       "  '10.138.0.5',\n",
       "  '10.138.0.58',\n",
       "  '10.138.15.206',\n",
       "  '10.138.0.74',\n",
       "  '10.138.15.210',\n",
       "  '10.138.0.115',\n",
       "  '10.138.0.62',\n",
       "  '10.138.15.230',\n",
       "  '10.138.15.231',\n",
       "  '10.138.15.232',\n",
       "  '10.138.15.233',\n",
       "  '10.138.15.237',\n",
       "  '10.138.15.235',\n",
       "  '10.138.15.234',\n",
       "  '10.138.15.236'],\n",
       " 24)"
      ]
     },
     "execution_count": 65,
     "metadata": {},
     "output_type": "execute_result"
    }
   ],
   "source": [
    "\n",
    "new_server_only_ips= []\n",
    "new_client_only_ips= []\n",
    "\n",
    "\n",
    "\n",
    "for i in node_info_dict['node_id']:\n",
    "    if node_info_dict['ServerOrClientregion'][i] ==0:\n",
    "        new_server_only_ips = new_server_only_ips + [ipList[i]]\n",
    "    else:\n",
    "        new_client_only_ips = new_client_only_ips + [ipList[i]]\n",
    "\n",
    "\n",
    "\n",
    "new_server_only_ips, len(new_server_only_ips), new_client_only_ips, len(new_client_only_ips) "
   ]
  },
  {
   "cell_type": "code",
   "execution_count": 66,
   "id": "5bdebd58",
   "metadata": {},
   "outputs": [],
   "source": [
    "os.remove('temp.txt')"
   ]
  },
  {
   "cell_type": "code",
   "execution_count": 67,
   "id": "6884127d",
   "metadata": {},
   "outputs": [],
   "source": [
    "all_ip_list = new_server_only_ips + new_client_only_ips"
   ]
  },
  {
   "cell_type": "code",
   "execution_count": 68,
   "id": "15e61d22",
   "metadata": {},
   "outputs": [],
   "source": [
    "with open(\"ifconfig.txt\", \"w\") as file:\n",
    "    for i, item in enumerate(all_ip_list):\n",
    "        if i < len(all_ip_list) - 1:\n",
    "            file.write(item + \"\\n\")\n",
    "        else:\n",
    "            file.write(item)"
   ]
  },
  {
   "cell_type": "code",
   "execution_count": 69,
   "id": "7c131491",
   "metadata": {
    "scrolled": true
   },
   "outputs": [
    {
     "name": "stdout",
     "output_type": "stream",
     "text": [
      "On branch master\n",
      "Your branch is up to date with 'origin/master'.\n",
      "\n",
      "nothing to commit, working tree clean\n"
     ]
    },
    {
     "name": "stderr",
     "output_type": "stream",
     "text": [
      "Everything up-to-date\n"
     ]
    }
   ],
   "source": [
    "    \n",
    "    os.system('git add .; git commit -m \"fixes\"; git push -f origin HEAD:master')\n",
    "\n",
    "    def setup_remote(i):\n",
    "\n",
    "        command = 'gcloud compute ssh --zone \"'+str(node_info_dict['region'][i].strip()[1:-1])+'\" \"resdb-'+f\"{i:03}\"+'\" --project \"ucr-ursa-major-lesani-lab\" --command \"sudo apt -y update > /dev/null 2>&1;sudo apt -y install build-essential > /dev/null 2>&1; sudo add-apt-repository ppa:ubuntu-toolchain-r/test -y; sudo apt update; sudo apt install g++-7 -y > /dev/null 2>&1; sudo rm -r resDB; git clone https://github.com/draznm/resDB.git; cd resDB; cd deps && \\ls | xargs -i tar -xvf {} > /dev/null 2>&1\"'\n",
    "\n",
    "        print(command)\n",
    "\n",
    "        output = os.system(command)\n",
    "        print(output)\n",
    "        \n",
    "        \n",
    "    def git_pull(i):\n",
    "\n",
    "        command = 'gcloud compute ssh --zone \"'+str(node_info_dict['region'][i].strip()[1:-1])+'\" \"resdb-'+f\"{i:03}\"+'\" --project \"ucr-ursa-major-lesani-lab\" --command \"cd resDB; git pull\"'\n",
    "\n",
    "        print(command)\n",
    "\n",
    "        output = os.system(command)\n",
    "        print(output)\n",
    "            \n",
    "            \n",
    "#     results = Parallel(n_jobs=60)(delayed(setup_remote)(i)\\\n",
    "#                                   for i in node_info_dict['node_id'])"
   ]
  },
  {
   "cell_type": "code",
   "execution_count": 70,
   "id": "95163962",
   "metadata": {},
   "outputs": [
    {
     "data": {
      "text/plain": [
       "48"
      ]
     },
     "execution_count": 70,
     "metadata": {},
     "output_type": "execute_result"
    }
   ],
   "source": [
    "server_count = 0\n",
    "for i in node_info_dict['node_id']:\n",
    "    if node_info_dict['ServerOrClientregion'][i]==0:\n",
    "        server_count = server_count+1\n",
    "        \n",
    "server_count"
   ]
  },
  {
   "cell_type": "code",
   "execution_count": 71,
   "id": "813e17f3",
   "metadata": {},
   "outputs": [
    {
     "name": "stderr",
     "output_type": "stream",
     "text": [
      "From https://github.com/draznm/resDB\n",
      "   a02da76..4446132  master     -> origin/master\n",
      "From https://github.com/draznm/resDB\n",
      "   a02da76..4446132  master     -> origin/master\n",
      "From https://github.com/draznm/resDB\n",
      "   a02da76..4446132  master     -> origin/master\n",
      "From https://github.com/draznm/resDB\n",
      "   a02da76..4446132  master     -> origin/master\n",
      "From https://github.com/draznm/resDB\n",
      "   a02da76..4446132  master     -> origin/master\n",
      "From https://github.com/draznm/resDB\n",
      "   a02da76..4446132  master     -> origin/master\n",
      "From https://github.com/draznm/resDB\n",
      "   a02da76..4446132  master     -> origin/master\n",
      "From https://github.com/draznm/resDB\n",
      "   a02da76..4446132  master     -> origin/master\n",
      "From https://github.com/draznm/resDB\n",
      "   a02da76..4446132  master     -> origin/master\n"
     ]
    },
    {
     "name": "stdout",
     "output_type": "stream",
     "text": [
      "Updating a02da76..4446132\n",
      "Fast-forward\n",
      " config.h | 4 ++--\n",
      " 1 file changed, 2 insertions(+), 2 deletions(-)\n",
      "Updating a02da76..4446132\n",
      "Fast-forward\n",
      " config.h | 4 ++--\n",
      " 1 file changed, 2 insertions(+), 2 deletions(-)\n"
     ]
    },
    {
     "name": "stderr",
     "output_type": "stream",
     "text": [
      "From https://github.com/draznm/resDB\n",
      "   a02da76..4446132  master     -> origin/master\n",
      "From https://github.com/draznm/resDB\n",
      "   a02da76..4446132  master     -> origin/master\n",
      "From https://github.com/draznm/resDB\n",
      "   a02da76..4446132  master     -> origin/master\n"
     ]
    },
    {
     "name": "stdout",
     "output_type": "stream",
     "text": [
      "Updating a02da76..4446132\n",
      "Fast-forward\n",
      " config.h | 4 ++--\n",
      " 1 file changed, 2 insertions(+), 2 deletions(-)\n",
      "Updating a02da76..4446132\n",
      "Fast-forward\n",
      " config.h | 4 ++--\n",
      " 1 file changed, 2 insertions(+), 2 deletions(-)\n"
     ]
    },
    {
     "name": "stderr",
     "output_type": "stream",
     "text": [
      "From https://github.com/draznm/resDB\n",
      "   a02da76..4446132  master     -> origin/master\n",
      "From https://github.com/draznm/resDB\n",
      "   a02da76..4446132  master     -> origin/master\n",
      "From https://github.com/draznm/resDB\n",
      "   a02da76..4446132  master     -> origin/master\n",
      "From https://github.com/draznm/resDB\n",
      "   a02da76..4446132  master     -> origin/master\n",
      "From https://github.com/draznm/resDB\n",
      "   a02da76..4446132  master     -> origin/master\n",
      "From https://github.com/draznm/resDB\n",
      "   a02da76..4446132  master     -> origin/master\n",
      "From https://github.com/draznm/resDB\n",
      "   a02da76..4446132  master     -> origin/master\n",
      "From https://github.com/draznm/resDB\n",
      "   a02da76..4446132  master     -> origin/master\n",
      "From https://github.com/draznm/resDB\n",
      "   a02da76..4446132  master     -> origin/master\n",
      "From https://github.com/draznm/resDB\n",
      "   a02da76..4446132  master     -> origin/master\n",
      "From https://github.com/draznm/resDB\n",
      "   a02da76..4446132  master     -> origin/master\n",
      "From https://github.com/draznm/resDB\n",
      "   a02da76..4446132  master     -> origin/master\n",
      "From https://github.com/draznm/resDB\n",
      "   a02da76..4446132  master     -> origin/master\n",
      "From https://github.com/draznm/resDB\n",
      "   a02da76..4446132  master     -> origin/master\n",
      "From https://github.com/draznm/resDB\n",
      "   a02da76..4446132  master     -> origin/master\n"
     ]
    },
    {
     "name": "stdout",
     "output_type": "stream",
     "text": [
      "Updating a02da76..4446132\n",
      "Fast-forward\n",
      " config.h | 4 ++--\n",
      " 1 file changed, 2 insertions(+), 2 deletions(-)\n",
      "Updating a02da76..4446132\n",
      "Fast-forward\n",
      " config.h | 4 ++--\n",
      " 1 file changed, 2 insertions(+), 2 deletions(-)\n",
      "Updating a02da76..4446132\n",
      "Fast-forward\n",
      "Updating a02da76..4446132\n",
      "Fast-forward\n",
      " config.h | 4 ++--\n",
      " 1 file changed, 2 insertions(+), 2 deletions(-)\n",
      " config.h | 4 ++--\n",
      " 1 file changed, 2 insertions(+), 2 deletions(-)\n",
      "Updating a02da76..4446132\n",
      "Fast-forward\n",
      " config.h | 4 ++--\n",
      " 1 file changed, 2 insertions(+), 2 deletions(-)\n",
      "Updating a02da76..4446132\n",
      "Fast-forward\n",
      " config.h | 4 ++--\n",
      " 1 file changed, 2 insertions(+), 2 deletions(-)\n",
      "Updating a02da76..4446132\n",
      "Fast-forward\n",
      " config.h | 4 ++--\n",
      " 1 file changed, 2 insertions(+), 2 deletions(-)\n",
      "Updating a02da76..4446132\n",
      "Fast-forward\n",
      " config.h | 4 ++--\n",
      " 1 file changed, 2 insertions(+), 2 deletions(-)\n",
      "Updating a02da76..4446132\n",
      "Fast-forward\n",
      " config.h | 4 ++--\n",
      " 1 file changed, 2 insertions(+), 2 deletions(-)\n",
      "Updating a02da76..4446132\n",
      "Fast-forward\n",
      " config.h | 4 ++--\n",
      " 1 file changed, 2 insertions(+), 2 deletions(-)\n",
      "Updating a02da76..4446132\n",
      "Fast-forward\n",
      " config.h | 4 ++--\n",
      " 1 file changed, 2 insertions(+), 2 deletions(-)\n",
      "Updating a02da76..4446132\n",
      "Fast-forward\n",
      " config.h | 4 ++--\n",
      " 1 file changed, 2 insertions(+), 2 deletions(-)\n",
      "Updating a02da76..4446132\n",
      "Fast-forward\n",
      " config.h | 4 ++--\n",
      " 1 file changed, 2 insertions(+), 2 deletions(-)\n",
      "Updating a02da76..4446132\n",
      "Fast-forward\n",
      " config.h | 4 ++--\n",
      " 1 file changed, 2 insertions(+), 2 deletions(-)\n",
      "Updating a02da76..4446132\n",
      "Fast-forward\n",
      " config.h | 4 ++--\n",
      " 1 file changed, 2 insertions(+), 2 deletions(-)\n",
      "Updating a02da76..4446132\n",
      "Fast-forward\n",
      " config.h | 4 ++--\n",
      " 1 file changed, 2 insertions(+), 2 deletions(-)\n",
      "Updating a02da76..4446132\n",
      "Fast-forward\n",
      " config.h | 4 ++--\n",
      " 1 file changed, 2 insertions(+), 2 deletions(-)\n",
      "Updating a02da76..4446132\n",
      "Fast-forward\n",
      " config.h | 4 ++--\n",
      " 1 file changed, 2 insertions(+), 2 deletions(-)\n",
      "Updating a02da76..4446132\n",
      "Fast-forward\n",
      " config.h | 4 ++--\n",
      " 1 file changed, 2 insertions(+), 2 deletions(-)\n",
      "Updating a02da76..4446132\n",
      "Fast-forward\n",
      " config.h | 4 ++--\n",
      " 1 file changed, 2 insertions(+), 2 deletions(-)\n",
      "Updating a02da76..4446132\n",
      "Fast-forward\n",
      " config.h | 4 ++--\n",
      " 1 file changed, 2 insertions(+), 2 deletions(-)\n",
      "Updating a02da76..4446132\n",
      "Fast-forward\n",
      " config.h | 4 ++--\n",
      " 1 file changed, 2 insertions(+), 2 deletions(-)\n",
      "Updating a02da76..4446132\n",
      "Fast-forward\n",
      " config.h | 4 ++--\n",
      " 1 file changed, 2 insertions(+), 2 deletions(-)\n"
     ]
    },
    {
     "name": "stderr",
     "output_type": "stream",
     "text": [
      "From https://github.com/draznm/resDB\n",
      "   a02da76..4446132  master     -> origin/master\n",
      "From https://github.com/draznm/resDB\n",
      "   a02da76..4446132  master     -> origin/master\n"
     ]
    },
    {
     "name": "stdout",
     "output_type": "stream",
     "text": [
      "Updating a02da76..4446132\n",
      "Fast-forward\n",
      " config.h | 4 ++--\n",
      " 1 file changed, 2 insertions(+), 2 deletions(-)\n",
      "Updating a02da76..4446132\n",
      "Fast-forward\n",
      " config.h | 4 ++--\n",
      " 1 file changed, 2 insertions(+), 2 deletions(-)\n"
     ]
    },
    {
     "name": "stderr",
     "output_type": "stream",
     "text": [
      "From https://github.com/draznm/resDB\n",
      "   a02da76..4446132  master     -> origin/master\n",
      "From https://github.com/draznm/resDB\n",
      "   a02da76..4446132  master     -> origin/master\n",
      "From https://github.com/draznm/resDB\n",
      "   a02da76..4446132  master     -> origin/master\n"
     ]
    },
    {
     "name": "stdout",
     "output_type": "stream",
     "text": [
      "Updating a02da76..4446132\n",
      "Fast-forward\n",
      " config.h | 4 ++--\n",
      " 1 file changed, 2 insertions(+), 2 deletions(-)\n"
     ]
    },
    {
     "name": "stderr",
     "output_type": "stream",
     "text": [
      "From https://github.com/draznm/resDB\n",
      "   a02da76..4446132  master     -> origin/master\n",
      "From https://github.com/draznm/resDB\n",
      "   a02da76..4446132  master     -> origin/master\n",
      "From https://github.com/draznm/resDB\n",
      "   a02da76..4446132  master     -> origin/master\n",
      "From https://github.com/draznm/resDB\n",
      "   a02da76..4446132  master     -> origin/master\n"
     ]
    },
    {
     "name": "stdout",
     "output_type": "stream",
     "text": [
      "Updating a02da76..4446132\n",
      "Fast-forward\n",
      " config.h | 4 ++--\n",
      " 1 file changed, 2 insertions(+), 2 deletions(-)\n",
      "Updating a02da76..4446132\n",
      "Fast-forward\n",
      " config.h | 4 ++--\n",
      " 1 file changed, 2 insertions(+), 2 deletions(-)\n",
      "Updating a02da76..4446132\n",
      "Fast-forward\n",
      " config.h | 4 ++--\n",
      " 1 file changed, 2 insertions(+), 2 deletions(-)\n"
     ]
    },
    {
     "name": "stderr",
     "output_type": "stream",
     "text": [
      "From https://github.com/draznm/resDB\n",
      "   a02da76..4446132  master     -> origin/master\n",
      "From https://github.com/draznm/resDB\n",
      "   a02da76..4446132  master     -> origin/master\n",
      "From https://github.com/draznm/resDB\n",
      "   a02da76..4446132  master     -> origin/master\n",
      "From https://github.com/draznm/resDB\n",
      "   a02da76..4446132  master     -> origin/master\n",
      "From https://github.com/draznm/resDB\n",
      "   a02da76..4446132  master     -> origin/master\n"
     ]
    },
    {
     "name": "stdout",
     "output_type": "stream",
     "text": [
      "Updating a02da76..4446132\n",
      "Fast-forward\n",
      " config.h | 4 ++--\n",
      " 1 file changed, 2 insertions(+), 2 deletions(-)\n",
      "Updating a02da76..4446132\n",
      "Fast-forward\n",
      " config.h | 4 ++--\n",
      " 1 file changed, 2 insertions(+), 2 deletions(-)\n",
      "Updating a02da76..4446132\n",
      "Fast-forward\n",
      " config.h | 4 ++--\n",
      " 1 file changed, 2 insertions(+), 2 deletions(-)\n",
      "Updating a02da76..4446132\n",
      "Fast-forward\n",
      " config.h | 4 ++--\n",
      " 1 file changed, 2 insertions(+), 2 deletions(-)\n"
     ]
    },
    {
     "name": "stderr",
     "output_type": "stream",
     "text": [
      "From https://github.com/draznm/resDB\n",
      "   a02da76..4446132  master     -> origin/master\n",
      "From https://github.com/draznm/resDB\n",
      "   a02da76..4446132  master     -> origin/master\n",
      "From https://github.com/draznm/resDB\n",
      "   a02da76..4446132  master     -> origin/master\n",
      "From https://github.com/draznm/resDB\n",
      "   a02da76..4446132  master     -> origin/master\n"
     ]
    },
    {
     "name": "stdout",
     "output_type": "stream",
     "text": [
      "Updating a02da76..4446132\n",
      "Fast-forward\n",
      " config.h | 4 ++--\n",
      " 1 file changed, 2 insertions(+), 2 deletions(-)\n"
     ]
    },
    {
     "name": "stderr",
     "output_type": "stream",
     "text": [
      "From https://github.com/draznm/resDB\n",
      "   a02da76..4446132  master     -> origin/master\n",
      "From https://github.com/draznm/resDB\n",
      "   a02da76..4446132  master     -> origin/master\n",
      "From https://github.com/draznm/resDB\n",
      "   a02da76..4446132  master     -> origin/master\n"
     ]
    },
    {
     "name": "stdout",
     "output_type": "stream",
     "text": [
      "Updating a02da76..4446132\n",
      "Fast-forward\n",
      " config.h | 4 ++--\n",
      " 1 file changed, 2 insertions(+), 2 deletions(-)\n",
      "Updating a02da76..4446132\n",
      "Fast-forward\n",
      " config.h | 4 ++--\n",
      " 1 file changed, 2 insertions(+), 2 deletions(-)\n",
      "Updating a02da76..4446132\n",
      "Fast-forward\n",
      " config.h | 4 ++--\n",
      " 1 file changed, 2 insertions(+), 2 deletions(-)\n"
     ]
    },
    {
     "name": "stderr",
     "output_type": "stream",
     "text": [
      "From https://github.com/draznm/resDB\n",
      "   a02da76..4446132  master     -> origin/master\n"
     ]
    },
    {
     "name": "stdout",
     "output_type": "stream",
     "text": [
      "Updating a02da76..4446132\n",
      "Fast-forward\n",
      " config.h | 4 ++--\n",
      " 1 file changed, 2 insertions(+), 2 deletions(-)\n"
     ]
    },
    {
     "name": "stderr",
     "output_type": "stream",
     "text": [
      "From https://github.com/draznm/resDB\n",
      "   a02da76..4446132  master     -> origin/master\n",
      "From https://github.com/draznm/resDB\n",
      "   a02da76..4446132  master     -> origin/master\n",
      "From https://github.com/draznm/resDB\n",
      "   a02da76..4446132  master     -> origin/master\n",
      "From https://github.com/draznm/resDB\n",
      "   a02da76..4446132  master     -> origin/master\n",
      "From https://github.com/draznm/resDB\n",
      "   a02da76..4446132  master     -> origin/master\n",
      "From https://github.com/draznm/resDB\n",
      "   a02da76..4446132  master     -> origin/master\n",
      "From https://github.com/draznm/resDB\n",
      "   a02da76..4446132  master     -> origin/master\n",
      "From https://github.com/draznm/resDB\n",
      "   a02da76..4446132  master     -> origin/master\n",
      "From https://github.com/draznm/resDB\n",
      "   a02da76..4446132  master     -> origin/master\n",
      "From https://github.com/draznm/resDB\n",
      "   a02da76..4446132  master     -> origin/master\n",
      "From https://github.com/draznm/resDB\n",
      "   a02da76..4446132  master     -> origin/master\n"
     ]
    },
    {
     "name": "stdout",
     "output_type": "stream",
     "text": [
      "Updating a02da76..4446132\n",
      "Fast-forward\n",
      "Updating a02da76..4446132\n",
      "Fast-forward\n",
      " config.h | 4 ++--\n",
      " 1 file changed, 2 insertions(+), 2 deletions(-)\n",
      " config.h | 4 ++--\n",
      " 1 file changed, 2 insertions(+), 2 deletions(-)\n",
      "Updating a02da76..4446132\n",
      "Fast-forward\n",
      " config.h | 4 ++--\n",
      " 1 file changed, 2 insertions(+), 2 deletions(-)\n",
      "Updating a02da76..4446132\n",
      "Fast-forward\n",
      "Updating a02da76..4446132\n",
      "Fast-forward\n",
      " config.h | 4 ++--\n",
      " 1 file changed, 2 insertions(+), 2 deletions(-)\n",
      " config.h | 4 ++--\n",
      " 1 file changed, 2 insertions(+), 2 deletions(-)\n"
     ]
    },
    {
     "name": "stderr",
     "output_type": "stream",
     "text": [
      "From https://github.com/draznm/resDB\n",
      "   a02da76..4446132  master     -> origin/master\n",
      "From https://github.com/draznm/resDB\n",
      "   a02da76..4446132  master     -> origin/master\n",
      "From https://github.com/draznm/resDB\n",
      "   a02da76..4446132  master     -> origin/master\n"
     ]
    },
    {
     "name": "stdout",
     "output_type": "stream",
     "text": [
      "Updating a02da76..4446132\n",
      "Fast-forward\n",
      " config.h | 4 ++--\n",
      " 1 file changed, 2 insertions(+), 2 deletions(-)\n",
      "Updating a02da76..4446132\n",
      "Fast-forward\n",
      " config.h | 4 ++--\n",
      " 1 file changed, 2 insertions(+), 2 deletions(-)\n",
      "Updating a02da76..4446132\n",
      "Fast-forward\n",
      " config.h | 4 ++--\n",
      " 1 file changed, 2 insertions(+), 2 deletions(-)\n",
      "Updating a02da76..4446132\n",
      "Fast-forward\n",
      "Updating a02da76..4446132\n",
      "Fast-forward\n",
      " config.h | 4 ++--\n",
      " 1 file changed, 2 insertions(+), 2 deletions(-)\n",
      " config.h | 4 ++--\n",
      " 1 file changed, 2 insertions(+), 2 deletions(-)\n",
      "Updating a02da76..4446132\n",
      "Fast-forward\n",
      " config.h | 4 ++--\n",
      " 1 file changed, 2 insertions(+), 2 deletions(-)\n",
      "Updating a02da76..4446132\n",
      "Fast-forward\n",
      " config.h | 4 ++--\n",
      " 1 file changed, 2 insertions(+), 2 deletions(-)\n"
     ]
    },
    {
     "name": "stderr",
     "output_type": "stream",
     "text": [
      "From https://github.com/draznm/resDB\n",
      "   a02da76..4446132  master     -> origin/master\n",
      "From https://github.com/draznm/resDB\n",
      "   a02da76..4446132  master     -> origin/master\n",
      "From https://github.com/draznm/resDB\n",
      "   a02da76..4446132  master     -> origin/master\n"
     ]
    },
    {
     "name": "stdout",
     "output_type": "stream",
     "text": [
      "Updating a02da76..4446132\n",
      "Fast-forward\n",
      " config.h | 4 ++--\n",
      " 1 file changed, 2 insertions(+), 2 deletions(-)\n",
      "Updating a02da76..4446132\n",
      "Fast-forward\n",
      " config.h | 4 ++--\n",
      " 1 file changed, 2 insertions(+), 2 deletions(-)\n",
      "Updating a02da76..4446132\n",
      "Fast-forward\n",
      " config.h | 4 ++--\n",
      " 1 file changed, 2 insertions(+), 2 deletions(-)\n",
      "Updating a02da76..4446132\n",
      "Fast-forward\n",
      " config.h | 4 ++--\n",
      " 1 file changed, 2 insertions(+), 2 deletions(-)\n",
      "Updating a02da76..4446132\n",
      "Fast-forward\n",
      " config.h | 4 ++--\n",
      " 1 file changed, 2 insertions(+), 2 deletions(-)\n",
      "Updating a02da76..4446132\n",
      "Fast-forward\n",
      " config.h | 4 ++--\n",
      " 1 file changed, 2 insertions(+), 2 deletions(-)\n"
     ]
    },
    {
     "name": "stderr",
     "output_type": "stream",
     "text": [
      "From https://github.com/draznm/resDB\n",
      "   a02da76..4446132  master     -> origin/master\n",
      "From https://github.com/draznm/resDB\n",
      "   a02da76..4446132  master     -> origin/master\n"
     ]
    },
    {
     "name": "stdout",
     "output_type": "stream",
     "text": [
      "Updating a02da76..4446132\n",
      "Fast-forward\n",
      " config.h | 4 ++--\n",
      " 1 file changed, 2 insertions(+), 2 deletions(-)\n",
      "Updating a02da76..4446132\n",
      "Fast-forward\n",
      " config.h | 4 ++--\n",
      " 1 file changed, 2 insertions(+), 2 deletions(-)\n",
      "Updating a02da76..4446132\n",
      "Fast-forward\n",
      " config.h | 4 ++--\n",
      " 1 file changed, 2 insertions(+), 2 deletions(-)\n",
      "Updating a02da76..4446132\n",
      "Fast-forward\n",
      " config.h | 4 ++--\n",
      " 1 file changed, 2 insertions(+), 2 deletions(-)\n"
     ]
    },
    {
     "name": "stderr",
     "output_type": "stream",
     "text": [
      "From https://github.com/draznm/resDB\n",
      "   a02da76..4446132  master     -> origin/master\n",
      "From https://github.com/draznm/resDB\n",
      "   a02da76..4446132  master     -> origin/master\n",
      "From https://github.com/draznm/resDB\n",
      "   a02da76..4446132  master     -> origin/master\n",
      "From https://github.com/draznm/resDB\n",
      "   a02da76..4446132  master     -> origin/master\n"
     ]
    },
    {
     "name": "stdout",
     "output_type": "stream",
     "text": [
      "Updating a02da76..4446132\n",
      "Fast-forward\n",
      " config.h | 4 ++--\n",
      " 1 file changed, 2 insertions(+), 2 deletions(-)\n",
      "Updating a02da76..4446132\n",
      "Fast-forward\n",
      " config.h | 4 ++--\n",
      " 1 file changed, 2 insertions(+), 2 deletions(-)\n",
      "Updating a02da76..4446132\n",
      "Fast-forward\n",
      " config.h | 4 ++--\n",
      " 1 file changed, 2 insertions(+), 2 deletions(-)\n",
      "Updating a02da76..4446132\n",
      "Fast-forward\n",
      " config.h | 4 ++--\n",
      " 1 file changed, 2 insertions(+), 2 deletions(-)\n",
      "Updating a02da76..4446132\n",
      "Fast-forward\n",
      " config.h | 4 ++--\n",
      " 1 file changed, 2 insertions(+), 2 deletions(-)\n",
      "Updating a02da76..4446132\n",
      "Fast-forward\n",
      " config.h | 4 ++--\n",
      " 1 file changed, 2 insertions(+), 2 deletions(-)\n",
      "Updating a02da76..4446132\n",
      "Fast-forward\n",
      " config.h | 4 ++--\n",
      " 1 file changed, 2 insertions(+), 2 deletions(-)\n",
      "Updating a02da76..4446132\n",
      "Fast-forward\n",
      " config.h | 4 ++--\n",
      " 1 file changed, 2 insertions(+), 2 deletions(-)\n"
     ]
    }
   ],
   "source": [
    "    def git_pull(i):\n",
    "\n",
    "        command = 'gcloud compute ssh --zone \"'+str(node_info_dict['region'][i].strip()[1:-1])+'\" \"resdb-'+f\"{i:03}\"+'\" --project \"ucr-ursa-major-lesani-lab\" --command \"cd resDB; git pull\"'\n",
    "\n",
    "        print(command)\n",
    "\n",
    "        output = os.system(command)\n",
    "        print(output)\n",
    "            \n",
    "            \n",
    "    results = Parallel(n_jobs=60)(delayed(git_pull)(i)\\\n",
    "                                  for i in node_info_dict['node_id'])"
   ]
  },
  {
   "cell_type": "code",
   "execution_count": 72,
   "id": "7311a387",
   "metadata": {
    "scrolled": true
   },
   "outputs": [
    {
     "name": "stderr",
     "output_type": "stream",
     "text": [
      "mkdir: cannot create directory ‘obj’: File exists\n",
      "mkdir: cannot create directory ‘results’: File exists\n",
      "mkdir: cannot create directory ‘obj’: File exists\n",
      "mkdir: cannot create directory ‘results’: File exists\n",
      "mkdir: cannot create directory ‘obj’: File exists\n",
      "mkdir: cannot create directory ‘results’: File exists\n"
     ]
    },
    {
     "name": "stdout",
     "output_type": "stream",
     "text": [
      "rm -f obj/*.o obj/.depend rundb runcl runsq unit_test\n",
      "rm -f obj/*.o obj/.depend rundb runcl runsq unit_test\n",
      "rm -f obj/*.o obj/.depend rundb runcl runsq unit_test\n"
     ]
    },
    {
     "name": "stderr",
     "output_type": "stream",
     "text": [
      "mkdir: cannot create directory ‘obj’: File exists\n",
      "mkdir: cannot create directory ‘results’: File exists\n",
      "mkdir: cannot create directory ‘obj’: File exists\n",
      "mkdir: cannot create directory ‘results’: File exists\n",
      "mkdir: cannot create directory ‘obj’: File exists\n",
      "mkdir: cannot create directory ‘results’: File exists\n"
     ]
    },
    {
     "name": "stdout",
     "output_type": "stream",
     "text": [
      "rm -f obj/*.o obj/.depend rundb runcl runsq unit_test\n",
      "rm -f obj/*.o obj/.depend rundb runcl runsq unit_test\n",
      "rm -f obj/*.o obj/.depend rundb runcl runsq unit_test\n"
     ]
    },
    {
     "name": "stderr",
     "output_type": "stream",
     "text": [
      "mkdir: cannot create directory ‘obj’: File exists\n",
      "mkdir: cannot create directory ‘results’: File exists\n",
      "mkdir: cannot create directory ‘obj’: File exists\n",
      "mkdir: cannot create directory ‘results’: File exists\n",
      "mkdir: cannot create directory ‘obj’: File exists\n",
      "mkdir: cannot create directory ‘obj’: File exists\n",
      "mkdir: cannot create directory ‘results’: File exists\n",
      "mkdir: cannot create directory ‘results’: File exists\n",
      "mkdir: cannot create directory ‘obj’: File exists\n",
      "mkdir: cannot create directory ‘results’: File exists\n"
     ]
    },
    {
     "name": "stdout",
     "output_type": "stream",
     "text": [
      "rm -f obj/*.o obj/.depend rundb runcl runsq unit_test\n",
      "rm -f obj/*.o obj/.depend rundb runcl runsq unit_test\n",
      "rm -f obj/*.o obj/.depend rundb runcl runsq unit_test\n",
      "rm -f obj/*.o obj/.depend rundb runcl runsq unit_test\n",
      "rm -f obj/*.o obj/.depend rundb runcl runsq unit_test\n"
     ]
    },
    {
     "name": "stderr",
     "output_type": "stream",
     "text": [
      "mkdir: cannot create directory ‘obj’: File exists\n",
      "mkdir: cannot create directory ‘results’: File exists\n",
      "mkdir: cannot create directory ‘obj’: File exists\n",
      "mkdir: cannot create directory ‘results’: File exists\n",
      "mkdir: cannot create directory ‘obj’: File exists\n",
      "mkdir: cannot create directory ‘results’: File exists\n",
      "mkdir: cannot create directory ‘obj’: File exists\n",
      "mkdir: cannot create directory ‘results’: File exists\n",
      "mkdir: cannot create directory ‘obj’: File exists\n",
      "mkdir: cannot create directory ‘results’: File exists\n"
     ]
    },
    {
     "name": "stdout",
     "output_type": "stream",
     "text": [
      "rm -f obj/*.o obj/.depend rundb runcl runsq unit_test\n",
      "rm -f obj/*.o obj/.depend rundb runcl runsq unit_test\n",
      "rm -f obj/*.o obj/.depend rundb runcl runsq unit_test\n",
      "rm -f obj/*.o obj/.depend rundb runcl runsq unit_test\n",
      "rm -f obj/*.o obj/.depend rundb runcl runsq unit_test\n"
     ]
    },
    {
     "name": "stderr",
     "output_type": "stream",
     "text": [
      "mkdir: cannot create directory ‘obj’: File exists\n",
      "mkdir: cannot create directory ‘results’: File exists\n",
      "mkdir: cannot create directory ‘obj’: File exists\n",
      "mkdir: cannot create directory ‘results’: File exists\n",
      "mkdir: cannot create directory ‘obj’: File exists\n",
      "mkdir: cannot create directory ‘results’: File exists\n",
      "mkdir: cannot create directory ‘obj’: File exists\n",
      "mkdir: cannot create directory ‘results’: File exists\n",
      "mkdir: cannot create directory ‘obj’: File exists\n",
      "mkdir: cannot create directory ‘results’: File exists\n"
     ]
    },
    {
     "name": "stdout",
     "output_type": "stream",
     "text": [
      "rm -f obj/*.o obj/.depend rundb runcl runsq unit_test\n",
      "rm -f obj/*.o obj/.depend rundb runcl runsq unit_test\n",
      "rm -f obj/*.o obj/.depend rundb runcl runsq unit_test\n",
      "rm -f obj/*.o obj/.depend rundb runcl runsq unit_test\n",
      "rm -f obj/*.o obj/.depend rundb runcl runsq unit_test\n"
     ]
    },
    {
     "name": "stderr",
     "output_type": "stream",
     "text": [
      "mkdir: cannot create directory ‘obj’: File exists\n",
      "mkdir: cannot create directory ‘results’: File exists\n",
      "mkdir: cannot create directory ‘obj’: File exists\n",
      "mkdir: cannot create directory ‘results’: File exists\n",
      "mkdir: cannot create directory ‘obj’: File exists\n",
      "mkdir: cannot create directory ‘results’: File exists\n"
     ]
    },
    {
     "name": "stdout",
     "output_type": "stream",
     "text": [
      "rm -f obj/*.o obj/.depend rundb runcl runsq unit_test\n",
      "rm -f obj/*.o obj/.depend rundb runcl runsq unit_test\n",
      "rm -f obj/*.o obj/.depend rundb runcl runsq unit_test\n"
     ]
    },
    {
     "name": "stderr",
     "output_type": "stream",
     "text": [
      "mkdir: cannot create directory ‘obj’: File exists\n",
      "mkdir: cannot create directory ‘results’: File exists\n"
     ]
    },
    {
     "name": "stdout",
     "output_type": "stream",
     "text": [
      "rm -f obj/*.o obj/.depend rundb runcl runsq unit_test\n"
     ]
    },
    {
     "name": "stderr",
     "output_type": "stream",
     "text": [
      "mkdir: cannot create directory ‘obj’: File exists\n",
      "mkdir: cannot create directory ‘results’: File exists\n"
     ]
    },
    {
     "name": "stdout",
     "output_type": "stream",
     "text": [
      "rm -f obj/*.o obj/.depend rundb runcl runsq unit_test\n"
     ]
    },
    {
     "name": "stderr",
     "output_type": "stream",
     "text": [
      "mkdir: cannot create directory ‘obj’: File exists\n",
      "mkdir: cannot create directory ‘results’: File exists\n"
     ]
    },
    {
     "name": "stdout",
     "output_type": "stream",
     "text": [
      "rm -f obj/*.o obj/.depend rundb runcl runsq unit_test\n"
     ]
    },
    {
     "name": "stderr",
     "output_type": "stream",
     "text": [
      "mkdir: cannot create directory ‘obj’: File exists\n",
      "mkdir: cannot create directory ‘results’: File exists\n",
      "mkdir: cannot create directory ‘obj’: File exists\n",
      "mkdir: cannot create directory ‘results’: File exists\n"
     ]
    },
    {
     "name": "stdout",
     "output_type": "stream",
     "text": [
      "rm -f obj/*.o obj/.depend rundb runcl runsq unit_test\n",
      "rm -f obj/*.o obj/.depend rundb runcl runsq unit_test\n"
     ]
    },
    {
     "name": "stderr",
     "output_type": "stream",
     "text": [
      "mkdir: cannot create directory ‘obj’: File exists\n",
      "mkdir: cannot create directory ‘results’: File exists\n"
     ]
    },
    {
     "name": "stdout",
     "output_type": "stream",
     "text": [
      "rm -f obj/*.o obj/.depend rundb runcl runsq unit_test\n"
     ]
    },
    {
     "name": "stderr",
     "output_type": "stream",
     "text": [
      "mkdir: cannot create directory ‘obj’: File exists\n",
      "mkdir: cannot create directory ‘results’: File exists\n"
     ]
    },
    {
     "name": "stdout",
     "output_type": "stream",
     "text": [
      "rm -f obj/*.o obj/.depend rundb runcl runsq unit_test\n"
     ]
    },
    {
     "name": "stderr",
     "output_type": "stream",
     "text": [
      "mkdir: cannot create directory ‘obj’: File exists\n",
      "mkdir: cannot create directory ‘results’: File exists\n",
      "mkdir: cannot create directory ‘obj’: File exists\n",
      "mkdir: cannot create directory ‘results’: File exists\n",
      "sudo: make: command not found\n"
     ]
    },
    {
     "name": "stdout",
     "output_type": "stream",
     "text": [
      "rm -f obj/*.o obj/.depend rundb runcl runsq unit_test\n",
      "rm -f obj/*.o obj/.depend rundb runcl runsq unit_test\n"
     ]
    },
    {
     "name": "stderr",
     "output_type": "stream",
     "text": [
      "mkdir: cannot create directory ‘obj’: File exists\n",
      "mkdir: cannot create directory ‘obj’: File exists\n",
      "mkdir: cannot create directory ‘results’: File exists\n",
      "mkdir: cannot create directory ‘obj’: File exists\n",
      "mkdir: cannot create directory ‘results’: File exists\n",
      "mkdir: cannot create directory ‘results’: File exists\n",
      "mkdir: cannot create directory ‘obj’: File exists\n",
      "mkdir: cannot create directory ‘results’: File exists\n",
      "mkdir: cannot create directory ‘obj’: File exists\n",
      "mkdir: cannot create directory ‘results’: File exists\n",
      "mkdir: cannot create directory ‘obj’: File exists\n",
      "mkdir: cannot create directory ‘results’: File exists\n",
      "mkdir: cannot create directory ‘obj’: File exists\n",
      "mkdir: cannot create directory ‘results’: File exists\n",
      "mkdir: cannot create directory ‘obj’: File exists\n",
      "mkdir: cannot create directory ‘results’: File exists\n",
      "mkdir: cannot create directory ‘obj’: File exists\n",
      "mkdir: cannot create directory ‘results’: File exists\n"
     ]
    },
    {
     "name": "stdout",
     "output_type": "stream",
     "text": [
      "rm -f obj/*.o obj/.depend rundb runcl runsq unit_test\n",
      "rm -f obj/*.o obj/.depend rundb runcl runsq unit_test\n",
      "rm -f obj/*.o obj/.depend rundb runcl runsq unit_test\n",
      "rm -f obj/*.o obj/.depend rundb runcl runsq unit_test\n",
      "rm -f obj/*.o obj/.depend rundb runcl runsq unit_test\n",
      "rm -f obj/*.o obj/.depend rundb runcl runsq unit_test\n",
      "rm -f obj/*.o obj/.depend rundb runcl runsq unit_test\n",
      "rm -f obj/*.o obj/.depend rundb runcl runsq unit_test\n"
     ]
    },
    {
     "name": "stderr",
     "output_type": "stream",
     "text": [
      "mkdir: cannot create directory ‘obj’: File exists\n",
      "mkdir: cannot create directory ‘results’: File exists\n",
      "mkdir: cannot create directory ‘obj’: File exists\n",
      "mkdir: cannot create directory ‘results’: File exists\n",
      "mkdir: cannot create directory ‘obj’: File exists\n",
      "mkdir: cannot create directory ‘results’: File exists\n",
      "mkdir: cannot create directory ‘obj’: File exists\n",
      "mkdir: cannot create directory ‘results’: File exists\n",
      "mkdir: cannot create directory ‘obj’: File exists\n",
      "mkdir: cannot create directory ‘obj’: File exists\n",
      "mkdir: cannot create directory ‘results’: File exists\n",
      "mkdir: cannot create directory ‘results’: File exists\n",
      "sudo: make: command not found\n",
      "mkdir: cannot create directory ‘obj’: File exists\n",
      "mkdir: cannot create directory ‘results’: File exists\n",
      "mkdir: cannot create directory ‘obj’: File exists\n",
      "mkdir: cannot create directory ‘results’: File exists\n",
      "mkdir: cannot create directory ‘obj’: File exists\n",
      "mkdir: cannot create directory ‘results’: File exists\n"
     ]
    },
    {
     "name": "stdout",
     "output_type": "stream",
     "text": [
      "rm -f obj/*.o obj/.depend rundb runcl runsq unit_test\n",
      "rm -f obj/*.o obj/.depend rundb runcl runsq unit_test\n",
      "rm -f obj/*.o obj/.depend rundb runcl runsq unit_test\n",
      "rm -f obj/*.o obj/.depend rundb runcl runsq unit_test\n",
      "rm -f obj/*.o obj/.depend rundb runcl runsq unit_test\n",
      "rm -f obj/*.o obj/.depend rundb runcl runsq unit_test\n",
      "rm -f obj/*.o obj/.depend rundb runcl runsq unit_test\n",
      "rm -f obj/*.o obj/.depend rundb runcl runsq unit_test\n"
     ]
    },
    {
     "name": "stderr",
     "output_type": "stream",
     "text": [
      "mkdir: cannot create directory ‘obj’: File exists\n",
      "mkdir: cannot create directory ‘results’: File exists\n",
      "mkdir: cannot create directory ‘obj’: File exists\n",
      "mkdir: cannot create directory ‘results’: File exists\n",
      "mkdir: cannot create directory ‘obj’: File exists\n",
      "mkdir: cannot create directory ‘results’: File exists\n",
      "mkdir: cannot create directory ‘obj’: File exists\n",
      "mkdir: cannot create directory ‘results’: File exists\n",
      "mkdir: cannot create directory ‘obj’: File exists\n",
      "mkdir: cannot create directory ‘results’: File exists\n",
      "mkdir: cannot create directory ‘obj’: File exists\n",
      "mkdir: cannot create directory ‘obj’: File exists\n",
      "mkdir: cannot create directory ‘results’: File exists\n",
      "mkdir: cannot create directory ‘obj’: File exists\n",
      "mkdir: cannot create directory ‘results’: File exists\n",
      "mkdir: cannot create directory ‘results’: File exists\n",
      "mkdir: cannot create directory ‘obj’: File exists\n",
      "mkdir: cannot create directory ‘results’: File exists\n",
      "mkdir: cannot create directory ‘obj’: File exists\n",
      "mkdir: cannot create directory ‘results’: File exists\n",
      "mkdir: cannot create directory ‘obj’: File exists\n",
      "mkdir: cannot create directory ‘results’: File exists\n",
      "mkdir: cannot create directory ‘obj’: File exists\n",
      "mkdir: cannot create directory ‘results’: File exists\n",
      "mkdir: cannot create directory ‘obj’: File exists\n",
      "mkdir: cannot create directory ‘results’: File exists\n",
      "mkdir: cannot create directory ‘obj’: File exists\n",
      "mkdir: cannot create directory ‘results’: File exists\n"
     ]
    },
    {
     "name": "stdout",
     "output_type": "stream",
     "text": [
      "rm -f obj/*.o obj/.depend rundb runcl runsq unit_test\n",
      "rm -f obj/*.o obj/.depend rundb runcl runsq unit_test\n",
      "rm -f obj/*.o obj/.depend rundb runcl runsq unit_test\n",
      "rm -f obj/*.o obj/.depend rundb runcl runsq unit_test\n",
      "rm -f obj/*.o obj/.depend rundb runcl runsq unit_test\n",
      "rm -f obj/*.o obj/.depend rundb runcl runsq unit_test\n",
      "rm -f obj/*.o obj/.depend rundb runcl runsq unit_test\n",
      "rm -f obj/*.o obj/.depend rundb runcl runsq unit_test\n",
      "rm -f obj/*.o obj/.depend rundb runcl runsq unit_test\n",
      "rm -f obj/*.o obj/.depend rundb runcl runsq unit_test\n",
      "rm -f obj/*.o obj/.depend rundb runcl runsq unit_test\n",
      "rm -f obj/*.o obj/.depend rundb runcl runsq unit_test\n",
      "rm -f obj/*.o obj/.depend rundb runcl runsq unit_test\n",
      "rm -f obj/*.o obj/.depend rundb runcl runsq unit_test\n"
     ]
    },
    {
     "name": "stderr",
     "output_type": "stream",
     "text": [
      "mkdir: cannot create directory ‘obj’: File exists\n",
      "mkdir: cannot create directory ‘results’: File exists\n",
      "mkdir: cannot create directory ‘obj’: File exists\n",
      "mkdir: cannot create directory ‘results’: File exists\n",
      "mkdir: cannot create directory ‘obj’: File exists\n",
      "mkdir: cannot create directory ‘results’: File exists\n",
      "mkdir: cannot create directory ‘obj’: File exists\n",
      "mkdir: cannot create directory ‘results’: File exists\n",
      "mkdir: cannot create directory ‘obj’: File exists\n",
      "mkdir: cannot create directory ‘results’: File exists\n",
      "mkdir: cannot create directory ‘obj’: File exists\n",
      "mkdir: cannot create directory ‘results’: File exists\n"
     ]
    },
    {
     "name": "stdout",
     "output_type": "stream",
     "text": [
      "rm -f obj/*.o obj/.depend rundb runcl runsq unit_test\n",
      "rm -f obj/*.o obj/.depend rundb runcl runsq unit_test\n",
      "rm -f obj/*.o obj/.depend rundb runcl runsq unit_test\n",
      "rm -f obj/*.o obj/.depend rundb runcl runsq unit_test\n",
      "rm -f obj/*.o obj/.depend rundb runcl runsq unit_test\n",
      "rm -f obj/*.o obj/.depend rundb runcl runsq unit_test\n"
     ]
    },
    {
     "name": "stderr",
     "output_type": "stream",
     "text": [
      "mkdir: cannot create directory ‘obj’: File exists\n",
      "mkdir: cannot create directory ‘results’: File exists\n"
     ]
    },
    {
     "name": "stdout",
     "output_type": "stream",
     "text": [
      "rm -f obj/*.o obj/.depend rundb runcl runsq unit_test\n"
     ]
    }
   ],
   "source": [
    "    def compile_nodes(i):\n",
    "\n",
    "        command = 'gcloud compute ssh --zone \"'+str(node_info_dict['region'][i].strip()[1:-1])+'\" \"resdb-'+f\"{i:03}\"+'\" --project \"ucr-ursa-major-lesani-lab\" --command \"cd resDB; mkdir obj; mkdir results; sudo make clean; sudo make all > /dev/null 2>&1\"'\n",
    "\n",
    "        print(command)\n",
    "\n",
    "        output = os.system(command)\n",
    "        print(output)\n",
    "        \n",
    "    results = Parallel(n_jobs=60)(delayed(compile_nodes)(i)\\\n",
    "                                  for i in node_info_dict['node_id'])   "
   ]
  },
  {
   "cell_type": "code",
   "execution_count": 73,
   "id": "61720e47",
   "metadata": {},
   "outputs": [],
   "source": [
    "#     def run_servers(i):\n",
    "#         if node_info_dict['ServerOrClientregion'][i]==0:\n",
    "#             command = 'gcloud compute ssh --zone \"'+str(node_info_dict['region'][i].strip()[1:-1])+'\" \"resdb-'+f\"{i:03}\"+'\" --project \"ucr-ursa-major-lesani-lab\" --command \"cd resDB; ulimit -n 4096; sudo nohup ./rundb -nid'+str(node_info_dict['ServerID'][i])+\\\n",
    "#             ' >../nohup_server.out 2>&1 &\"'\n",
    "\n",
    "#             print(command)\n",
    "\n",
    "#             output = os.system(command)\n",
    "#             print(output)\n",
    "        \n",
    "#     results = Parallel(n_jobs=60)(delayed(run_servers)(i)\\\n",
    "#                                   for i in node_info_dict['node_id'])   "
   ]
  },
  {
   "cell_type": "code",
   "execution_count": 74,
   "id": "8640f0bb",
   "metadata": {},
   "outputs": [],
   "source": [
    "# time.sleep(30)"
   ]
  },
  {
   "cell_type": "code",
   "execution_count": 75,
   "id": "9024e2f5",
   "metadata": {},
   "outputs": [],
   "source": [
    "#     def run_clients(i):\n",
    "#         if node_info_dict['ServerOrClientregion'][i]==1:\n",
    "#             command = 'gcloud compute ssh --zone \"'+str(node_info_dict['region'][i].strip()[1:-1])+'\" \"resdb-'+f\"{i:03}\"+'\" --project \"ucr-ursa-major-lesani-lab\" --command \"cd resDB; ulimit -n 4096; sudo nohup ./runcl -nid'+str(server_count + node_info_dict['clientID'][i])+\\\n",
    "#             ' >../nohup_client.out 2>&1 &\"'\n",
    "\n",
    "#             print(command)\n",
    "            \n",
    "#     for i in range(60):\n",
    "#         run_clients(i)"
   ]
  },
  {
   "cell_type": "code",
   "execution_count": 76,
   "id": "5a29e9e8",
   "metadata": {},
   "outputs": [],
   "source": [
    "#     def run_clients(i):\n",
    "#         if node_info_dict['ServerOrClientregion'][i]==1:\n",
    "#             command = 'gcloud compute ssh --zone \"'+str(node_info_dict['region'][i].strip()[1:-1])+'\" \"resdb-'+f\"{i:03}\"+'\" --project \"ucr-ursa-major-lesani-lab\" --command \"cd resDB; ulimit -n 4096; sudo nohup ./runcl -nid'+str(server_count + node_info_dict['clientID'][i])+\\\n",
    "#             ' >../nohup_client.out 2>&1 &\"'\n",
    "\n",
    "#             print(command)\n",
    "\n",
    "#             output = os.system(command)\n",
    "#             print(output)\n",
    "        \n",
    "#     results = Parallel(n_jobs=60)(delayed(run_clients)(i)\\\n",
    "#                                   for i in node_info_dict['node_id'])   "
   ]
  },
  {
   "cell_type": "code",
   "execution_count": 77,
   "id": "ec575a28",
   "metadata": {
    "scrolled": true
   },
   "outputs": [],
   "source": [
    "    def run_nodes(i):\n",
    "        if node_info_dict['ServerOrClientregion'][i]==0:\n",
    "            command = 'gcloud compute ssh --zone \"'+str(node_info_dict['region'][i].strip()[1:-1])+'\" \"resdb-'+f\"{i:03}\"+'\" --project \"ucr-ursa-major-lesani-lab\" --command \"cd resDB; ulimit -n 4096; sudo nohup ./rundb -nid'+str(node_info_dict['ServerID'][i])+\\\n",
    "            ' >../nohup_server.out 2>&1 &\"'\n",
    "\n",
    "            print(command)\n",
    "\n",
    "            output = os.system(command)\n",
    "            print(output)\n",
    "        else:\n",
    "            command = 'gcloud compute ssh --zone \"'+str(node_info_dict['region'][i].strip()[1:-1])+'\" \"resdb-'+f\"{i:03}\"+'\" --project \"ucr-ursa-major-lesani-lab\" --command \"cd resDB; ulimit -n 4096; sudo nohup ./runcl -nid'+str(server_count + node_info_dict['clientID'][i])+\\\n",
    "            ' >../nohup_client.out 2>&1 &\"'\n",
    "\n",
    "            print(command)\n",
    "\n",
    "            output = os.system(command)\n",
    "            print(output)\n",
    "        \n",
    "    results = Parallel(n_jobs=60)(delayed(run_nodes)(i)\\\n",
    "                                  for i in node_info_dict['node_id'])   "
   ]
  },
  {
   "cell_type": "code",
   "execution_count": 78,
   "id": "239d518b",
   "metadata": {},
   "outputs": [
    {
     "name": "stdout",
     "output_type": "stream",
     "text": [
      "gcloud compute ssh --zone \"us-west1-b\" \"resdb-004\" --project \"ucr-ursa-major-lesani-lab\" --command \"cd resDB; git pull\"\n",
      "0\n",
      "gcloud compute ssh --zone \"us-west1-b\" \"resdb-062\" --project \"ucr-ursa-major-lesani-lab\" --command \"cd resDB; git pull\"\n",
      "0\n",
      "gcloud compute ssh --zone \"us-west1-b\" \"resdb-038\" --project \"ucr-ursa-major-lesani-lab\" --command \"cd resDB; mkdir obj; mkdir results; sudo make clean; sudo make all > /dev/null 2>&1\"\n",
      "0\n",
      "gcloud compute ssh --zone \"us-west1-b\" \"resdb-022\" --project \"ucr-ursa-major-lesani-lab\" --command \"cd resDB; ulimit -n 4096; sudo nohup ./runcl -nid54 >../nohup_client.out 2>&1 &\"\n",
      "0\n",
      "gcloud compute ssh --zone \"us-west1-b\" \"resdb-030\" --project \"ucr-ursa-major-lesani-lab\" --command \"cd resDB; git pull\"\n",
      "0\n",
      "gcloud compute ssh --zone \"us-west1-b\" \"resdb-021\" --project \"ucr-ursa-major-lesani-lab\" --command \"cd resDB; mkdir obj; mkdir results; sudo make clean; sudo make all > /dev/null 2>&1\"\n",
      "0\n",
      "gcloud compute ssh --zone \"us-west1-b\" \"resdb-002\" --project \"ucr-ursa-major-lesani-lab\" --command \"cd resDB; ulimit -n 4096; sudo nohup ./rundb -nid2 >../nohup_server.out 2>&1 &\"\n",
      "0\n",
      "gcloud compute ssh --zone \"us-west1-b\" \"resdb-044\" --project \"ucr-ursa-major-lesani-lab\" --command \"cd resDB; git pull\"\n",
      "0\n",
      "gcloud compute ssh --zone \"us-west1-b\" \"resdb-051\" --project \"ucr-ursa-major-lesani-lab\" --command \"cd resDB; mkdir obj; mkdir results; sudo make clean; sudo make all > /dev/null 2>&1\"\n",
      "0\n",
      "gcloud compute ssh --zone \"us-west1-b\" \"resdb-021\" --project \"ucr-ursa-major-lesani-lab\" --command \"cd resDB; ulimit -n 4096; sudo nohup ./runcl -nid53 >../nohup_client.out 2>&1 &\"\n",
      "0\n",
      "gcloud compute ssh --zone \"us-west1-b\" \"resdb-020\" --project \"ucr-ursa-major-lesani-lab\" --command \"cd resDB; git pull\"\n",
      "0\n",
      "gcloud compute ssh --zone \"us-west1-b\" \"resdb-004\" --project \"ucr-ursa-major-lesani-lab\" --command \"cd resDB; mkdir obj; mkdir results; sudo make clean; sudo make all > /dev/null 2>&1\"\n",
      "0\n",
      "gcloud compute ssh --zone \"us-west1-b\" \"resdb-061\" --project \"ucr-ursa-major-lesani-lab\" --command \"cd resDB; mkdir obj; mkdir results; sudo make clean; sudo make all > /dev/null 2>&1\"\n",
      "0\n",
      "gcloud compute ssh --zone \"us-west1-b\" \"resdb-019\" --project \"ucr-ursa-major-lesani-lab\" --command \"cd resDB; ulimit -n 4096; sudo nohup ./runcl -nid51 >../nohup_client.out 2>&1 &\"\n",
      "0\n",
      "gcloud compute ssh --zone \"us-west1-b\" \"resdb-022\" --project \"ucr-ursa-major-lesani-lab\" --command \"cd resDB; git pull\"\n",
      "0\n",
      "gcloud compute ssh --zone \"us-west1-b\" \"resdb-001\" --project \"ucr-ursa-major-lesani-lab\" --command \"cd resDB; mkdir obj; mkdir results; sudo make clean; sudo make all > /dev/null 2>&1\"\n",
      "0\n",
      "gcloud compute ssh --zone \"us-west1-b\" \"resdb-015\" --project \"ucr-ursa-major-lesani-lab\" --command \"cd resDB; ulimit -n 4096; sudo nohup ./rundb -nid15 >../nohup_server.out 2>&1 &\"\n",
      "0\n",
      "gcloud compute ssh --zone \"us-west1-b\" \"resdb-058\" --project \"ucr-ursa-major-lesani-lab\" --command \"cd resDB; git pull\"\n",
      "0\n",
      "gcloud compute ssh --zone \"us-west1-b\" \"resdb-039\" --project \"ucr-ursa-major-lesani-lab\" --command \"cd resDB; mkdir obj; mkdir results; sudo make clean; sudo make all > /dev/null 2>&1\"\n",
      "256\n",
      "gcloud compute ssh --zone \"us-west1-b\" \"resdb-012\" --project \"ucr-ursa-major-lesani-lab\" --command \"cd resDB; ulimit -n 4096; sudo nohup ./rundb -nid12 >../nohup_server.out 2>&1 &\"\n",
      "0\n",
      "gcloud compute ssh --zone \"us-west1-b\" \"resdb-028\" --project \"ucr-ursa-major-lesani-lab\" --command \"cd resDB; git pull\"\n",
      "0\n",
      "gcloud compute ssh --zone \"us-west1-b\" \"resdb-040\" --project \"ucr-ursa-major-lesani-lab\" --command \"cd resDB; mkdir obj; mkdir results; sudo make clean; sudo make all > /dev/null 2>&1\"\n",
      "0\n",
      "gcloud compute ssh --zone \"us-west1-b\" \"resdb-017\" --project \"ucr-ursa-major-lesani-lab\" --command \"cd resDB; ulimit -n 4096; sudo nohup ./runcl -nid49 >../nohup_client.out 2>&1 &\"\n",
      "0\n",
      "gcloud compute ssh --zone \"us-west1-b\" \"resdb-036\" --project \"ucr-ursa-major-lesani-lab\" --command \"cd resDB; git pull\"\n",
      "0\n",
      "gcloud compute ssh --zone \"us-west1-b\" \"resdb-055\" --project \"ucr-ursa-major-lesani-lab\" --command \"cd resDB; mkdir obj; mkdir results; sudo make clean; sudo make all > /dev/null 2>&1\"\n",
      "0\n",
      "gcloud compute ssh --zone \"us-west1-b\" \"resdb-024\" --project \"ucr-ursa-major-lesani-lab\" --command \"cd resDB; ulimit -n 4096; sudo nohup ./rundb -nid16 >../nohup_server.out 2>&1 &\"\n",
      "0\n",
      "gcloud compute ssh --zone \"us-west1-b\" \"resdb-021\" --project \"ucr-ursa-major-lesani-lab\" --command \"cd resDB; git pull\"\n",
      "0\n",
      "gcloud compute ssh --zone \"us-west1-b\" \"resdb-010\" --project \"ucr-ursa-major-lesani-lab\" --command \"cd resDB; mkdir obj; mkdir results; sudo make clean; sudo make all > /dev/null 2>&1\"\n",
      "0\n",
      "gcloud compute ssh --zone \"us-west1-b\" \"resdb-068\" --project \"ucr-ursa-major-lesani-lab\" --command \"cd resDB; mkdir obj; mkdir results; sudo make clean; sudo make all > /dev/null 2>&1\"\n",
      "0\n",
      "gcloud compute ssh --zone \"us-west1-b\" \"resdb-018\" --project \"ucr-ursa-major-lesani-lab\" --command \"cd resDB; ulimit -n 4096; sudo nohup ./runcl -nid50 >../nohup_client.out 2>&1 &\"\n",
      "0\n",
      "gcloud compute ssh --zone \"us-west1-b\" \"resdb-010\" --project \"ucr-ursa-major-lesani-lab\" --command \"cd resDB; git pull\"\n",
      "0\n",
      "gcloud compute ssh --zone \"us-west1-b\" \"resdb-000\" --project \"ucr-ursa-major-lesani-lab\" --command \"cd resDB; mkdir obj; mkdir results; sudo make clean; sudo make all > /dev/null 2>&1\"\n",
      "0\n",
      "gcloud compute ssh --zone \"us-west1-b\" \"resdb-066\" --project \"ucr-ursa-major-lesani-lab\" --command \"cd resDB; mkdir obj; mkdir results; sudo make clean; sudo make all > /dev/null 2>&1\"\n",
      "0\n",
      "gcloud compute ssh --zone \"us-west1-b\" \"resdb-025\" --project \"ucr-ursa-major-lesani-lab\" --command \"cd resDB; ulimit -n 4096; sudo nohup ./rundb -nid17 >../nohup_server.out 2>&1 &\"\n",
      "0\n",
      "gcloud compute ssh --zone \"us-west1-b\" \"resdb-042\" --project \"ucr-ursa-major-lesani-lab\" --command \"cd resDB; git pull\"\n",
      "0\n",
      "gcloud compute ssh --zone \"us-west1-b\" \"resdb-016\" --project \"ucr-ursa-major-lesani-lab\" --command \"cd resDB; mkdir obj; mkdir results; sudo make clean; sudo make all > /dev/null 2>&1\"\n",
      "0\n",
      "gcloud compute ssh --zone \"us-west1-b\" \"resdb-008\" --project \"ucr-ursa-major-lesani-lab\" --command \"cd resDB; ulimit -n 4096; sudo nohup ./rundb -nid8 >../nohup_server.out 2>&1 &\"\n",
      "0\n",
      "gcloud compute ssh --zone \"us-west1-b\" \"resdb-047\" --project \"ucr-ursa-major-lesani-lab\" --command \"cd resDB; git pull\"\n",
      "0\n",
      "gcloud compute ssh --zone \"us-west1-b\" \"resdb-036\" --project \"ucr-ursa-major-lesani-lab\" --command \"cd resDB; mkdir obj; mkdir results; sudo make clean; sudo make all > /dev/null 2>&1\"\n",
      "512\n",
      "gcloud compute ssh --zone \"us-west1-b\" \"resdb-011\" --project \"ucr-ursa-major-lesani-lab\" --command \"cd resDB; ulimit -n 4096; sudo nohup ./rundb -nid11 >../nohup_server.out 2>&1 &\"\n",
      "0\n",
      "gcloud compute ssh --zone \"us-west1-b\" \"resdb-038\" --project \"ucr-ursa-major-lesani-lab\" --command \"cd resDB; git pull\"\n",
      "0\n",
      "gcloud compute ssh --zone \"us-west1-b\" \"resdb-032\" --project \"ucr-ursa-major-lesani-lab\" --command \"cd resDB; mkdir obj; mkdir results; sudo make clean; sudo make all > /dev/null 2>&1\"\n",
      "0\n",
      "gcloud compute ssh --zone \"us-west1-b\" \"resdb-020\" --project \"ucr-ursa-major-lesani-lab\" --command \"cd resDB; ulimit -n 4096; sudo nohup ./runcl -nid52 >../nohup_client.out 2>&1 &\"\n",
      "0\n",
      "gcloud compute ssh --zone \"us-west1-b\" \"resdb-029\" --project \"ucr-ursa-major-lesani-lab\" --command \"cd resDB; git pull\"\n",
      "0\n",
      "gcloud compute ssh --zone \"us-west1-b\" \"resdb-020\" --project \"ucr-ursa-major-lesani-lab\" --command \"cd resDB; mkdir obj; mkdir results; sudo make clean; sudo make all > /dev/null 2>&1\"\n",
      "0\n",
      "gcloud compute ssh --zone \"us-west1-b\" \"resdb-003\" --project \"ucr-ursa-major-lesani-lab\" --command \"cd resDB; ulimit -n 4096; sudo nohup ./rundb -nid3 >../nohup_server.out 2>&1 &\"\n",
      "0\n",
      "gcloud compute ssh --zone \"us-west1-b\" \"resdb-013\" --project \"ucr-ursa-major-lesani-lab\" --command \"cd resDB; git pull\"\n",
      "0\n",
      "gcloud compute ssh --zone \"us-west1-b\" \"resdb-064\" --project \"ucr-ursa-major-lesani-lab\" --command \"cd resDB; git pull\"\n",
      "0\n",
      "gcloud compute ssh --zone \"us-west1-b\" \"resdb-027\" --project \"ucr-ursa-major-lesani-lab\" --command \"cd resDB; mkdir obj; mkdir results; sudo make clean; sudo make all > /dev/null 2>&1\"\n",
      "0\n",
      "gcloud compute ssh --zone \"us-west1-b\" \"resdb-026\" --project \"ucr-ursa-major-lesani-lab\" --command \"cd resDB; ulimit -n 4096; sudo nohup ./rundb -nid18 >../nohup_server.out 2>&1 &\"\n",
      "0\n",
      "gcloud compute ssh --zone \"us-west1-b\" \"resdb-027\" --project \"ucr-ursa-major-lesani-lab\" --command \"cd resDB; git pull\"\n",
      "0\n",
      "gcloud compute ssh --zone \"us-west1-b\" \"resdb-043\" --project \"ucr-ursa-major-lesani-lab\" --command \"cd resDB; mkdir obj; mkdir results; sudo make clean; sudo make all > /dev/null 2>&1\"\n",
      "0\n",
      "gcloud compute ssh --zone \"us-west1-b\" \"resdb-036\" --project \"ucr-ursa-major-lesani-lab\" --command \"cd resDB; ulimit -n 4096; sudo nohup ./rundb -nid28 >../nohup_server.out 2>&1 &\"\n",
      "0\n"
     ]
    },
    {
     "name": "stdout",
     "output_type": "stream",
     "text": [
      "gcloud compute ssh --zone \"us-west1-b\" \"resdb-057\" --project \"ucr-ursa-major-lesani-lab\" --command \"cd resDB; git pull\"\n",
      "0\n",
      "gcloud compute ssh --zone \"us-west1-b\" \"resdb-030\" --project \"ucr-ursa-major-lesani-lab\" --command \"cd resDB; mkdir obj; mkdir results; sudo make clean; sudo make all > /dev/null 2>&1\"\n",
      "0\n",
      "gcloud compute ssh --zone \"us-west1-b\" \"resdb-027\" --project \"ucr-ursa-major-lesani-lab\" --command \"cd resDB; ulimit -n 4096; sudo nohup ./rundb -nid19 >../nohup_server.out 2>&1 &\"\n",
      "0\n",
      "gcloud compute ssh --zone \"us-west1-b\" \"resdb-017\" --project \"ucr-ursa-major-lesani-lab\" --command \"cd resDB; git pull\"\n",
      "0\n",
      "gcloud compute ssh --zone \"us-west1-b\" \"resdb-066\" --project \"ucr-ursa-major-lesani-lab\" --command \"cd resDB; git pull\"\n",
      "0\n",
      "gcloud compute ssh --zone \"us-west1-b\" \"resdb-037\" --project \"ucr-ursa-major-lesani-lab\" --command \"cd resDB; mkdir obj; mkdir results; sudo make clean; sudo make all > /dev/null 2>&1\"\n",
      "0\n",
      "gcloud compute ssh --zone \"us-west1-b\" \"resdb-035\" --project \"ucr-ursa-major-lesani-lab\" --command \"cd resDB; ulimit -n 4096; sudo nohup ./rundb -nid27 >../nohup_server.out 2>&1 &\"\n",
      "0\n",
      "gcloud compute ssh --zone \"us-west1-b\" \"resdb-003\" --project \"ucr-ursa-major-lesani-lab\" --command \"cd resDB; git pull\"\n",
      "0\n",
      "gcloud compute ssh --zone \"us-west1-b\" \"resdb-061\" --project \"ucr-ursa-major-lesani-lab\" --command \"cd resDB; git pull\"\n",
      "0\n",
      "gcloud compute ssh --zone \"us-west1-b\" \"resdb-059\" --project \"ucr-ursa-major-lesani-lab\" --command \"cd resDB; mkdir obj; mkdir results; sudo make clean; sudo make all > /dev/null 2>&1\"\n",
      "0\n",
      "gcloud compute ssh --zone \"us-west1-b\" \"resdb-034\" --project \"ucr-ursa-major-lesani-lab\" --command \"cd resDB; ulimit -n 4096; sudo nohup ./rundb -nid26 >../nohup_server.out 2>&1 &\"\n",
      "0\n",
      "gcloud compute ssh --zone \"us-west1-b\" \"resdb-025\" --project \"ucr-ursa-major-lesani-lab\" --command \"cd resDB; git pull\"\n",
      "0\n",
      "gcloud compute ssh --zone \"us-west1-b\" \"resdb-008\" --project \"ucr-ursa-major-lesani-lab\" --command \"cd resDB; mkdir obj; mkdir results; sudo make clean; sudo make all > /dev/null 2>&1\"\n",
      "0\n",
      "gcloud compute ssh --zone \"us-west1-b\" \"resdb-013\" --project \"ucr-ursa-major-lesani-lab\" --command \"cd resDB; ulimit -n 4096; sudo nohup ./rundb -nid13 >../nohup_server.out 2>&1 &\"\n",
      "0\n",
      "gcloud compute ssh --zone \"us-west1-b\" \"resdb-063\" --project \"ucr-ursa-major-lesani-lab\" --command \"cd resDB; ulimit -n 4096; sudo nohup ./rundb -nid47 >../nohup_server.out 2>&1 &\"\n",
      "0\n",
      "gcloud compute ssh --zone \"us-west1-b\" \"resdb-009\" --project \"ucr-ursa-major-lesani-lab\" --command \"cd resDB; git pull\"\n",
      "0\n",
      "gcloud compute ssh --zone \"us-west1-b\" \"resdb-011\" --project \"ucr-ursa-major-lesani-lab\" --command \"cd resDB; mkdir obj; mkdir results; sudo make clean; sudo make all > /dev/null 2>&1\"\n",
      "0\n",
      "gcloud compute ssh --zone \"us-west1-b\" \"resdb-000\" --project \"ucr-ursa-major-lesani-lab\" --command \"cd resDB; ulimit -n 4096; sudo nohup ./rundb -nid0 >../nohup_server.out 2>&1 &\"\n",
      "0\n",
      "gcloud compute ssh --zone \"us-west1-b\" \"resdb-060\" --project \"ucr-ursa-major-lesani-lab\" --command \"cd resDB; ulimit -n 4096; sudo nohup ./rundb -nid44 >../nohup_server.out 2>&1 &\"\n",
      "0\n",
      "gcloud compute ssh --zone \"us-west1-b\" \"resdb-024\" --project \"ucr-ursa-major-lesani-lab\" --command \"cd resDB; git pull\"\n",
      "0\n",
      "gcloud compute ssh --zone \"us-west1-b\" \"resdb-063\" --project \"ucr-ursa-major-lesani-lab\" --command \"cd resDB; git pull\"\n",
      "0\n",
      "gcloud compute ssh --zone \"us-west1-b\" \"resdb-050\" --project \"ucr-ursa-major-lesani-lab\" --command \"cd resDB; mkdir obj; mkdir results; sudo make clean; sudo make all > /dev/null 2>&1\"\n",
      "0\n",
      "gcloud compute ssh --zone \"us-west1-b\" \"resdb-038\" --project \"ucr-ursa-major-lesani-lab\" --command \"cd resDB; ulimit -n 4096; sudo nohup ./rundb -nid30 >../nohup_server.out 2>&1 &\"\n",
      "0\n",
      "gcloud compute ssh --zone \"us-west1-b\" \"resdb-059\" --project \"ucr-ursa-major-lesani-lab\" --command \"cd resDB; git pull\"\n",
      "0\n",
      "gcloud compute ssh --zone \"us-west1-b\" \"resdb-018\" --project \"ucr-ursa-major-lesani-lab\" --command \"cd resDB; mkdir obj; mkdir results; sudo make clean; sudo make all > /dev/null 2>&1\"\n",
      "0\n",
      "gcloud compute ssh --zone \"us-west1-b\" \"resdb-067\" --project \"ucr-ursa-major-lesani-lab\" --command \"cd resDB; mkdir obj; mkdir results; sudo make clean; sudo make all > /dev/null 2>&1\"\n",
      "0\n",
      "gcloud compute ssh --zone \"us-west1-b\" \"resdb-029\" --project \"ucr-ursa-major-lesani-lab\" --command \"cd resDB; ulimit -n 4096; sudo nohup ./rundb -nid21 >../nohup_server.out 2>&1 &\"\n",
      "0\n",
      "gcloud compute ssh --zone \"us-west1-b\" \"resdb-019\" --project \"ucr-ursa-major-lesani-lab\" --command \"cd resDB; git pull\"\n",
      "0\n",
      "gcloud compute ssh --zone \"us-west1-b\" \"resdb-070\" --project \"ucr-ursa-major-lesani-lab\" --command \"cd resDB; git pull\"\n",
      "0\n",
      "gcloud compute ssh --zone \"us-west1-b\" \"resdb-044\" --project \"ucr-ursa-major-lesani-lab\" --command \"cd resDB; mkdir obj; mkdir results; sudo make clean; sudo make all > /dev/null 2>&1\"\n",
      "0\n",
      "gcloud compute ssh --zone \"us-west1-b\" \"resdb-044\" --project \"ucr-ursa-major-lesani-lab\" --command \"cd resDB; ulimit -n 4096; sudo nohup ./runcl -nid60 >../nohup_client.out 2>&1 &\"\n",
      "0\n",
      "gcloud compute ssh --zone \"us-west1-b\" \"resdb-026\" --project \"ucr-ursa-major-lesani-lab\" --command \"cd resDB; git pull\"\n",
      "0\n",
      "gcloud compute ssh --zone \"us-west1-b\" \"resdb-012\" --project \"ucr-ursa-major-lesani-lab\" --command \"cd resDB; mkdir obj; mkdir results; sudo make clean; sudo make all > /dev/null 2>&1\"\n",
      "0\n",
      "gcloud compute ssh --zone \"us-west1-b\" \"resdb-064\" --project \"ucr-ursa-major-lesani-lab\" --command \"cd resDB; mkdir obj; mkdir results; sudo make clean; sudo make all > /dev/null 2>&1\"\n",
      "0\n",
      "gcloud compute ssh --zone \"us-west1-b\" \"resdb-030\" --project \"ucr-ursa-major-lesani-lab\" --command \"cd resDB; ulimit -n 4096; sudo nohup ./rundb -nid22 >../nohup_server.out 2>&1 &\"\n",
      "0\n",
      "gcloud compute ssh --zone \"us-west1-b\" \"resdb-039\" --project \"ucr-ursa-major-lesani-lab\" --command \"cd resDB; git pull\"\n",
      "0\n",
      "gcloud compute ssh --zone \"us-west1-b\" \"resdb-048\" --project \"ucr-ursa-major-lesani-lab\" --command \"cd resDB; mkdir obj; mkdir results; sudo make clean; sudo make all > /dev/null 2>&1\"\n",
      "0\n",
      "gcloud compute ssh --zone \"us-west1-b\" \"resdb-043\" --project \"ucr-ursa-major-lesani-lab\" --command \"cd resDB; ulimit -n 4096; sudo nohup ./runcl -nid59 >../nohup_client.out 2>&1 &\"\n",
      "0\n",
      "gcloud compute ssh --zone \"us-west1-b\" \"resdb-006\" --project \"ucr-ursa-major-lesani-lab\" --command \"cd resDB; git pull\"\n",
      "0\n",
      "gcloud compute ssh --zone \"us-west1-b\" \"resdb-013\" --project \"ucr-ursa-major-lesani-lab\" --command \"cd resDB; mkdir obj; mkdir results; sudo make clean; sudo make all > /dev/null 2>&1\"\n",
      "0\n",
      "gcloud compute ssh --zone \"us-west1-b\" \"resdb-062\" --project \"ucr-ursa-major-lesani-lab\" --command \"cd resDB; mkdir obj; mkdir results; sudo make clean; sudo make all > /dev/null 2>&1\"\n",
      "0\n",
      "gcloud compute ssh --zone \"us-west1-b\" \"resdb-047\" --project \"ucr-ursa-major-lesani-lab\" --command \"cd resDB; ulimit -n 4096; sudo nohup ./runcl -nid63 >../nohup_client.out 2>&1 &\"\n",
      "0\n",
      "gcloud compute ssh --zone \"us-west1-b\" \"resdb-031\" --project \"ucr-ursa-major-lesani-lab\" --command \"cd resDB; git pull\"\n",
      "0\n",
      "gcloud compute ssh --zone \"us-west1-b\" \"resdb-058\" --project \"ucr-ursa-major-lesani-lab\" --command \"cd resDB; mkdir obj; mkdir results; sudo make clean; sudo make all > /dev/null 2>&1\"\n",
      "0\n",
      "gcloud compute ssh --zone \"us-west1-b\" \"resdb-053\" --project \"ucr-ursa-major-lesani-lab\" --command \"cd resDB; ulimit -n 4096; sudo nohup ./rundb -nid37 >../nohup_server.out 2>&1 &\"\n",
      "0\n",
      "gcloud compute ssh --zone \"us-west1-b\" \"resdb-014\" --project \"ucr-ursa-major-lesani-lab\" --command \"cd resDB; git pull\"\n",
      "0\n",
      "gcloud compute ssh --zone \"us-west1-b\" \"resdb-067\" --project \"ucr-ursa-major-lesani-lab\" --command \"cd resDB; git pull\"\n",
      "0\n",
      "gcloud compute ssh --zone \"us-west1-b\" \"resdb-053\" --project \"ucr-ursa-major-lesani-lab\" --command \"cd resDB; mkdir obj; mkdir results; sudo make clean; sudo make all > /dev/null 2>&1\"\n",
      "0\n",
      "gcloud compute ssh --zone \"us-west1-b\" \"resdb-031\" --project \"ucr-ursa-major-lesani-lab\" --command \"cd resDB; ulimit -n 4096; sudo nohup ./rundb -nid23 >../nohup_server.out 2>&1 &\"\n",
      "0\n",
      "gcloud compute ssh --zone \"us-west1-b\" \"resdb-050\" --project \"ucr-ursa-major-lesani-lab\" --command \"cd resDB; git pull\"\n",
      "0\n",
      "gcloud compute ssh --zone \"us-west1-b\" \"resdb-017\" --project \"ucr-ursa-major-lesani-lab\" --command \"cd resDB; mkdir obj; mkdir results; sudo make clean; sudo make all > /dev/null 2>&1\"\n",
      "0\n",
      "gcloud compute ssh --zone \"us-west1-b\" \"resdb-001\" --project \"ucr-ursa-major-lesani-lab\" --command \"cd resDB; ulimit -n 4096; sudo nohup ./rundb -nid1 >../nohup_server.out 2>&1 &\"\n",
      "0\n",
      "gcloud compute ssh --zone \"us-west1-b\" \"resdb-066\" --project \"ucr-ursa-major-lesani-lab\" --command \"cd resDB; ulimit -n 4096; sudo nohup ./runcl -nid66 >../nohup_client.out 2>&1 &\"\n",
      "0\n"
     ]
    },
    {
     "name": "stdout",
     "output_type": "stream",
     "text": [
      "gcloud compute ssh --zone \"us-west1-b\" \"resdb-045\" --project \"ucr-ursa-major-lesani-lab\" --command \"cd resDB; git pull\"\n",
      "0\n",
      "gcloud compute ssh --zone \"us-west1-b\" \"resdb-025\" --project \"ucr-ursa-major-lesani-lab\" --command \"cd resDB; mkdir obj; mkdir results; sudo make clean; sudo make all > /dev/null 2>&1\"\n",
      "0\n",
      "gcloud compute ssh --zone \"us-west1-b\" \"resdb-032\" --project \"ucr-ursa-major-lesani-lab\" --command \"cd resDB; ulimit -n 4096; sudo nohup ./rundb -nid24 >../nohup_server.out 2>&1 &\"\n",
      "0\n",
      "gcloud compute ssh --zone \"us-west1-b\" \"resdb-007\" --project \"ucr-ursa-major-lesani-lab\" --command \"cd resDB; git pull\"\n",
      "0\n",
      "gcloud compute ssh --zone \"us-west1-b\" \"resdb-060\" --project \"ucr-ursa-major-lesani-lab\" --command \"cd resDB; git pull\"\n",
      "0\n",
      "gcloud compute ssh --zone \"us-west1-b\" \"resdb-052\" --project \"ucr-ursa-major-lesani-lab\" --command \"cd resDB; mkdir obj; mkdir results; sudo make clean; sudo make all > /dev/null 2>&1\"\n",
      "0\n",
      "gcloud compute ssh --zone \"us-west1-b\" \"resdb-048\" --project \"ucr-ursa-major-lesani-lab\" --command \"cd resDB; ulimit -n 4096; sudo nohup ./rundb -nid32 >../nohup_server.out 2>&1 &\"\n",
      "0\n",
      "gcloud compute ssh --zone \"us-west1-b\" \"resdb-040\" --project \"ucr-ursa-major-lesani-lab\" --command \"cd resDB; git pull\"\n",
      "0\n",
      "gcloud compute ssh --zone \"us-west1-b\" \"resdb-015\" --project \"ucr-ursa-major-lesani-lab\" --command \"cd resDB; mkdir obj; mkdir results; sudo make clean; sudo make all > /dev/null 2>&1\"\n",
      "0\n",
      "gcloud compute ssh --zone \"us-west1-b\" \"resdb-014\" --project \"ucr-ursa-major-lesani-lab\" --command \"cd resDB; ulimit -n 4096; sudo nohup ./rundb -nid14 >../nohup_server.out 2>&1 &\"\n",
      "0\n",
      "gcloud compute ssh --zone \"us-west1-b\" \"resdb-068\" --project \"ucr-ursa-major-lesani-lab\" --command \"cd resDB; ulimit -n 4096; sudo nohup ./runcl -nid68 >../nohup_client.out 2>&1 &\"\n",
      "0\n",
      "gcloud compute ssh --zone \"us-west1-b\" \"resdb-032\" --project \"ucr-ursa-major-lesani-lab\" --command \"cd resDB; git pull\"\n",
      "0\n",
      "gcloud compute ssh --zone \"us-west1-b\" \"resdb-023\" --project \"ucr-ursa-major-lesani-lab\" --command \"cd resDB; mkdir obj; mkdir results; sudo make clean; sudo make all > /dev/null 2>&1\"\n",
      "0\n",
      "gcloud compute ssh --zone \"us-west1-b\" \"resdb-071\" --project \"ucr-ursa-major-lesani-lab\" --command \"cd resDB; mkdir obj; mkdir results; sudo make clean; sudo make all > /dev/null 2>&1\"\n",
      "0\n",
      "gcloud compute ssh --zone \"us-west1-b\" \"resdb-039\" --project \"ucr-ursa-major-lesani-lab\" --command \"cd resDB; ulimit -n 4096; sudo nohup ./rundb -nid31 >../nohup_server.out 2>&1 &\"\n",
      "0\n",
      "gcloud compute ssh --zone \"us-west1-b\" \"resdb-023\" --project \"ucr-ursa-major-lesani-lab\" --command \"cd resDB; git pull\"\n",
      "0\n",
      "gcloud compute ssh --zone \"us-west1-b\" \"resdb-005\" --project \"ucr-ursa-major-lesani-lab\" --command \"cd resDB; mkdir obj; mkdir results; sudo make clean; sudo make all > /dev/null 2>&1\"\n",
      "0\n",
      "gcloud compute ssh --zone \"us-west1-b\" \"resdb-060\" --project \"ucr-ursa-major-lesani-lab\" --command \"cd resDB; mkdir obj; mkdir results; sudo make clean; sudo make all > /dev/null 2>&1\"\n",
      "0\n",
      "gcloud compute ssh --zone \"us-west1-b\" \"resdb-052\" --project \"ucr-ursa-major-lesani-lab\" --command \"cd resDB; ulimit -n 4096; sudo nohup ./rundb -nid36 >../nohup_server.out 2>&1 &\"\n",
      "0\n",
      "gcloud compute ssh --zone \"us-west1-b\" \"resdb-005\" --project \"ucr-ursa-major-lesani-lab\" --command \"cd resDB; git pull\"\n",
      "0\n",
      "gcloud compute ssh --zone \"us-west1-b\" \"resdb-068\" --project \"ucr-ursa-major-lesani-lab\" --command \"cd resDB; git pull\"\n",
      "0\n",
      "gcloud compute ssh --zone \"us-west1-b\" \"resdb-057\" --project \"ucr-ursa-major-lesani-lab\" --command \"cd resDB; mkdir obj; mkdir results; sudo make clean; sudo make all > /dev/null 2>&1\"\n",
      "0\n",
      "gcloud compute ssh --zone \"us-west1-b\" \"resdb-033\" --project \"ucr-ursa-major-lesani-lab\" --command \"cd resDB; ulimit -n 4096; sudo nohup ./rundb -nid25 >../nohup_server.out 2>&1 &\"\n",
      "0\n",
      "gcloud compute ssh --zone \"us-west1-b\" \"resdb-054\" --project \"ucr-ursa-major-lesani-lab\" --command \"cd resDB; git pull\"\n",
      "0\n",
      "gcloud compute ssh --zone \"us-west1-b\" \"resdb-028\" --project \"ucr-ursa-major-lesani-lab\" --command \"cd resDB; mkdir obj; mkdir results; sudo make clean; sudo make all > /dev/null 2>&1\"\n",
      "0\n",
      "gcloud compute ssh --zone \"us-west1-b\" \"resdb-054\" --project \"ucr-ursa-major-lesani-lab\" --command \"cd resDB; ulimit -n 4096; sudo nohup ./rundb -nid38 >../nohup_server.out 2>&1 &\"\n",
      "0\n",
      "gcloud compute ssh --zone \"us-west1-b\" \"resdb-008\" --project \"ucr-ursa-major-lesani-lab\" --command \"cd resDB; git pull\"\n",
      "0\n",
      "gcloud compute ssh --zone \"us-west1-b\" \"resdb-065\" --project \"ucr-ursa-major-lesani-lab\" --command \"cd resDB; git pull\"\n",
      "0\n",
      "gcloud compute ssh --zone \"us-west1-b\" \"resdb-035\" --project \"ucr-ursa-major-lesani-lab\" --command \"cd resDB; mkdir obj; mkdir results; sudo make clean; sudo make all > /dev/null 2>&1\"\n",
      "0\n",
      "gcloud compute ssh --zone \"us-west1-b\" \"resdb-046\" --project \"ucr-ursa-major-lesani-lab\" --command \"cd resDB; ulimit -n 4096; sudo nohup ./runcl -nid62 >../nohup_client.out 2>&1 &\"\n",
      "0\n",
      "gcloud compute ssh --zone \"us-west1-b\" \"resdb-016\" --project \"ucr-ursa-major-lesani-lab\" --command \"cd resDB; git pull\"\n",
      "0\n",
      "gcloud compute ssh --zone \"us-west1-b\" \"resdb-003\" --project \"ucr-ursa-major-lesani-lab\" --command \"cd resDB; mkdir obj; mkdir results; sudo make clean; sudo make all > /dev/null 2>&1\"\n",
      "0\n",
      "gcloud compute ssh --zone \"us-west1-b\" \"resdb-070\" --project \"ucr-ursa-major-lesani-lab\" --command \"cd resDB; mkdir obj; mkdir results; sudo make clean; sudo make all > /dev/null 2>&1\"\n",
      "0\n",
      "gcloud compute ssh --zone \"us-west1-b\" \"resdb-041\" --project \"ucr-ursa-major-lesani-lab\" --command \"cd resDB; ulimit -n 4096; sudo nohup ./runcl -nid57 >../nohup_client.out 2>&1 &\"\n",
      "0\n",
      "gcloud compute ssh --zone \"us-west1-b\" \"resdb-052\" --project \"ucr-ursa-major-lesani-lab\" --command \"cd resDB; git pull\"\n",
      "0\n",
      "gcloud compute ssh --zone \"us-west1-b\" \"resdb-026\" --project \"ucr-ursa-major-lesani-lab\" --command \"cd resDB; mkdir obj; mkdir results; sudo make clean; sudo make all > /dev/null 2>&1\"\n",
      "0\n",
      "gcloud compute ssh --zone \"us-west1-b\" \"resdb-050\" --project \"ucr-ursa-major-lesani-lab\" --command \"cd resDB; ulimit -n 4096; sudo nohup ./rundb -nid34 >../nohup_server.out 2>&1 &\"\n",
      "0\n",
      "gcloud compute ssh --zone \"us-west1-b\" \"resdb-011\" --project \"ucr-ursa-major-lesani-lab\" --command \"cd resDB; git pull\"\n",
      "0\n",
      "gcloud compute ssh --zone \"us-west1-b\" \"resdb-009\" --project \"ucr-ursa-major-lesani-lab\" --command \"cd resDB; mkdir obj; mkdir results; sudo make clean; sudo make all > /dev/null 2>&1\"\n",
      "0\n",
      "gcloud compute ssh --zone \"us-west1-b\" \"resdb-007\" --project \"ucr-ursa-major-lesani-lab\" --command \"cd resDB; ulimit -n 4096; sudo nohup ./rundb -nid7 >../nohup_server.out 2>&1 &\"\n",
      "0\n",
      "gcloud compute ssh --zone \"us-west1-b\" \"resdb-071\" --project \"ucr-ursa-major-lesani-lab\" --command \"cd resDB; ulimit -n 4096; sudo nohup ./runcl -nid71 >../nohup_client.out 2>&1 &\"\n",
      "0\n",
      "gcloud compute ssh --zone \"us-west1-b\" \"resdb-055\" --project \"ucr-ursa-major-lesani-lab\" --command \"cd resDB; git pull\"\n",
      "0\n",
      "gcloud compute ssh --zone \"us-west1-b\" \"resdb-049\" --project \"ucr-ursa-major-lesani-lab\" --command \"cd resDB; mkdir obj; mkdir results; sudo make clean; sudo make all > /dev/null 2>&1\"\n",
      "0\n",
      "gcloud compute ssh --zone \"us-west1-b\" \"resdb-042\" --project \"ucr-ursa-major-lesani-lab\" --command \"cd resDB; ulimit -n 4096; sudo nohup ./runcl -nid58 >../nohup_client.out 2>&1 &\"\n",
      "0\n",
      "gcloud compute ssh --zone \"us-west1-b\" \"resdb-034\" --project \"ucr-ursa-major-lesani-lab\" --command \"cd resDB; git pull\"\n",
      "0\n",
      "gcloud compute ssh --zone \"us-west1-b\" \"resdb-054\" --project \"ucr-ursa-major-lesani-lab\" --command \"cd resDB; mkdir obj; mkdir results; sudo make clean; sudo make all > /dev/null 2>&1\"\n",
      "0\n",
      "gcloud compute ssh --zone \"us-west1-b\" \"resdb-028\" --project \"ucr-ursa-major-lesani-lab\" --command \"cd resDB; ulimit -n 4096; sudo nohup ./rundb -nid20 >../nohup_server.out 2>&1 &\"\n",
      "0\n",
      "gcloud compute ssh --zone \"us-west1-b\" \"resdb-015\" --project \"ucr-ursa-major-lesani-lab\" --command \"cd resDB; git pull\"\n",
      "0\n",
      "gcloud compute ssh --zone \"us-west1-b\" \"resdb-002\" --project \"ucr-ursa-major-lesani-lab\" --command \"cd resDB; mkdir obj; mkdir results; sudo make clean; sudo make all > /dev/null 2>&1\"\n",
      "0\n",
      "gcloud compute ssh --zone \"us-west1-b\" \"resdb-005\" --project \"ucr-ursa-major-lesani-lab\" --command \"cd resDB; ulimit -n 4096; sudo nohup ./rundb -nid5 >../nohup_server.out 2>&1 &\"\n",
      "0\n",
      "gcloud compute ssh --zone \"us-west1-b\" \"resdb-061\" --project \"ucr-ursa-major-lesani-lab\" --command \"cd resDB; ulimit -n 4096; sudo nohup ./rundb -nid45 >../nohup_server.out 2>&1 &\"\n",
      "0\n",
      "gcloud compute ssh --zone \"us-west1-b\" \"resdb-037\" --project \"ucr-ursa-major-lesani-lab\" --command \"cd resDB; git pull\"\n",
      "0\n",
      "gcloud compute ssh --zone \"us-west1-b\" \"resdb-022\" --project \"ucr-ursa-major-lesani-lab\" --command \"cd resDB; mkdir obj; mkdir results; sudo make clean; sudo make all > /dev/null 2>&1\"\n",
      "0\n",
      "gcloud compute ssh --zone \"us-west1-b\" \"resdb-069\" --project \"ucr-ursa-major-lesani-lab\" --command \"cd resDB; mkdir obj; mkdir results; sudo make clean; sudo make all > /dev/null 2>&1\"\n",
      "0\n",
      "gcloud compute ssh --zone \"us-west1-b\" \"resdb-049\" --project \"ucr-ursa-major-lesani-lab\" --command \"cd resDB; ulimit -n 4096; sudo nohup ./rundb -nid33 >../nohup_server.out 2>&1 &\"\n",
      "0\n",
      "gcloud compute ssh --zone \"us-west1-b\" \"resdb-001\" --project \"ucr-ursa-major-lesani-lab\" --command \"cd resDB; git pull\"\n",
      "0\n",
      "gcloud compute ssh --zone \"us-west1-b\" \"resdb-014\" --project \"ucr-ursa-major-lesani-lab\" --command \"cd resDB; mkdir obj; mkdir results; sudo make clean; sudo make all > /dev/null 2>&1\"\n",
      "0\n",
      "gcloud compute ssh --zone \"us-west1-b\" \"resdb-063\" --project \"ucr-ursa-major-lesani-lab\" --command \"cd resDB; mkdir obj; mkdir results; sudo make clean; sudo make all > /dev/null 2>&1\"\n",
      "0\n",
      "gcloud compute ssh --zone \"us-west1-b\" \"resdb-045\" --project \"ucr-ursa-major-lesani-lab\" --command \"cd resDB; ulimit -n 4096; sudo nohup ./runcl -nid61 >../nohup_client.out 2>&1 &\"\n",
      "0\n",
      "gcloud compute ssh --zone \"us-west1-b\" \"resdb-051\" --project \"ucr-ursa-major-lesani-lab\" --command \"cd resDB; git pull\"\n",
      "0\n",
      "gcloud compute ssh --zone \"us-west1-b\" \"resdb-031\" --project \"ucr-ursa-major-lesani-lab\" --command \"cd resDB; mkdir obj; mkdir results; sudo make clean; sudo make all > /dev/null 2>&1\"\n",
      "0\n",
      "gcloud compute ssh --zone \"us-west1-b\" \"resdb-016\" --project \"ucr-ursa-major-lesani-lab\" --command \"cd resDB; ulimit -n 4096; sudo nohup ./runcl -nid48 >../nohup_client.out 2>&1 &\"\n",
      "0\n",
      "gcloud compute ssh --zone \"us-west1-b\" \"resdb-064\" --project \"ucr-ursa-major-lesani-lab\" --command \"cd resDB; ulimit -n 4096; sudo nohup ./runcl -nid64 >../nohup_client.out 2>&1 &\"\n",
      "0\n",
      "gcloud compute ssh --zone \"us-west1-b\" \"resdb-048\" --project \"ucr-ursa-major-lesani-lab\" --command \"cd resDB; git pull\"\n",
      "0\n",
      "gcloud compute ssh --zone \"us-west1-b\" \"resdb-019\" --project \"ucr-ursa-major-lesani-lab\" --command \"cd resDB; mkdir obj; mkdir results; sudo make clean; sudo make all > /dev/null 2>&1\"\n",
      "0\n",
      "gcloud compute ssh --zone \"us-west1-b\" \"resdb-065\" --project \"ucr-ursa-major-lesani-lab\" --command \"cd resDB; mkdir obj; mkdir results; sudo make clean; sudo make all > /dev/null 2>&1\"\n",
      "0\n",
      "gcloud compute ssh --zone \"us-west1-b\" \"resdb-040\" --project \"ucr-ursa-major-lesani-lab\" --command \"cd resDB; ulimit -n 4096; sudo nohup ./runcl -nid56 >../nohup_client.out 2>&1 &\"\n",
      "0\n",
      "gcloud compute ssh --zone \"us-west1-b\" \"resdb-002\" --project \"ucr-ursa-major-lesani-lab\" --command \"cd resDB; git pull\"\n",
      "0\n",
      "gcloud compute ssh --zone \"us-west1-b\" \"resdb-007\" --project \"ucr-ursa-major-lesani-lab\" --command \"cd resDB; mkdir obj; mkdir results; sudo make clean; sudo make all > /dev/null 2>&1\"\n",
      "0\n",
      "gcloud compute ssh --zone \"us-west1-b\" \"resdb-009\" --project \"ucr-ursa-major-lesani-lab\" --command \"cd resDB; ulimit -n 4096; sudo nohup ./rundb -nid9 >../nohup_server.out 2>&1 &\"\n",
      "0\n",
      "gcloud compute ssh --zone \"us-west1-b\" \"resdb-065\" --project \"ucr-ursa-major-lesani-lab\" --command \"cd resDB; ulimit -n 4096; sudo nohup ./runcl -nid65 >../nohup_client.out 2>&1 &\"\n",
      "0\n",
      "gcloud compute ssh --zone \"us-west1-b\" \"resdb-035\" --project \"ucr-ursa-major-lesani-lab\" --command \"cd resDB; git pull\"\n",
      "0\n",
      "gcloud compute ssh --zone \"us-west1-b\" \"resdb-029\" --project \"ucr-ursa-major-lesani-lab\" --command \"cd resDB; mkdir obj; mkdir results; sudo make clean; sudo make all > /dev/null 2>&1\"\n",
      "256\n",
      "gcloud compute ssh --zone \"us-west1-b\" \"resdb-010\" --project \"ucr-ursa-major-lesani-lab\" --command \"cd resDB; ulimit -n 4096; sudo nohup ./rundb -nid10 >../nohup_server.out 2>&1 &\"\n",
      "0\n",
      "gcloud compute ssh --zone \"us-west1-b\" \"resdb-067\" --project \"ucr-ursa-major-lesani-lab\" --command \"cd resDB; ulimit -n 4096; sudo nohup ./runcl -nid67 >../nohup_client.out 2>&1 &\"\n",
      "0\n"
     ]
    },
    {
     "name": "stdout",
     "output_type": "stream",
     "text": [
      "gcloud compute ssh --zone \"us-west1-b\" \"resdb-049\" --project \"ucr-ursa-major-lesani-lab\" --command \"cd resDB; git pull\"\n",
      "0\n",
      "gcloud compute ssh --zone \"us-west1-b\" \"resdb-024\" --project \"ucr-ursa-major-lesani-lab\" --command \"cd resDB; mkdir obj; mkdir results; sudo make clean; sudo make all > /dev/null 2>&1\"\n",
      "0\n",
      "gcloud compute ssh --zone \"us-west1-b\" \"resdb-006\" --project \"ucr-ursa-major-lesani-lab\" --command \"cd resDB; ulimit -n 4096; sudo nohup ./rundb -nid6 >../nohup_server.out 2>&1 &\"\n",
      "0\n",
      "gcloud compute ssh --zone \"us-west1-b\" \"resdb-062\" --project \"ucr-ursa-major-lesani-lab\" --command \"cd resDB; ulimit -n 4096; sudo nohup ./rundb -nid46 >../nohup_server.out 2>&1 &\"\n",
      "0\n",
      "gcloud compute ssh --zone \"us-west1-b\" \"resdb-056\" --project \"ucr-ursa-major-lesani-lab\" --command \"cd resDB; git pull\"\n",
      "0\n",
      "gcloud compute ssh --zone \"us-west1-b\" \"resdb-047\" --project \"ucr-ursa-major-lesani-lab\" --command \"cd resDB; mkdir obj; mkdir results; sudo make clean; sudo make all > /dev/null 2>&1\"\n",
      "0\n",
      "gcloud compute ssh --zone \"us-west1-b\" \"resdb-055\" --project \"ucr-ursa-major-lesani-lab\" --command \"cd resDB; ulimit -n 4096; sudo nohup ./rundb -nid39 >../nohup_server.out 2>&1 &\"\n",
      "0\n"
     ]
    }
   ],
   "source": [
    "time.sleep(250)"
   ]
  },
  {
   "cell_type": "code",
   "execution_count": 79,
   "id": "43125121",
   "metadata": {
    "scrolled": true
   },
   "outputs": [
    {
     "name": "stderr",
     "output_type": "stream",
     "text": [
      "/home/tejas/anaconda3/lib/python3.11/site-packages/joblib/externals/loky/process_executor.py:700: UserWarning: A worker stopped while some jobs were given to the executor. This can be caused by a too short worker timeout or by a memory leak.\n",
      "  warnings.warn(\n"
     ]
    },
    {
     "name": "stdout",
     "output_type": "stream",
     "text": [
      "gcloud compute ssh --zone \"us-west1-b\" \"resdb-041\" --project \"ucr-ursa-major-lesani-lab\" --command \"cd resDB; git pull\"\n",
      "0\n",
      "gcloud compute ssh --zone \"us-west1-b\" \"resdb-045\" --project \"ucr-ursa-major-lesani-lab\" --command \"cd resDB; mkdir obj; mkdir results; sudo make clean; sudo make all > /dev/null 2>&1\"\n",
      "0\n",
      "gcloud compute ssh --zone \"us-west1-b\" \"resdb-056\" --project \"ucr-ursa-major-lesani-lab\" --command \"cd resDB; ulimit -n 4096; sudo nohup ./rundb -nid40 >../nohup_server.out 2>&1 &\"\n",
      "0\n",
      "gcloud compute ssh --zone \"us-west1-b\" \"resdb-046\" --project \"ucr-ursa-major-lesani-lab\" --command \"cd resDB; git pull\"\n",
      "0\n",
      "gcloud compute ssh --zone \"us-west1-b\" \"resdb-056\" --project \"ucr-ursa-major-lesani-lab\" --command \"cd resDB; mkdir obj; mkdir results; sudo make clean; sudo make all > /dev/null 2>&1\"\n",
      "0\n",
      "gcloud compute ssh --zone \"us-west1-b\" \"resdb-057\" --project \"ucr-ursa-major-lesani-lab\" --command \"cd resDB; ulimit -n 4096; sudo nohup ./rundb -nid41 >../nohup_server.out 2>&1 &\"\n",
      "0\n",
      "gcloud compute ssh --zone \"us-west1-b\" \"resdb-053\" --project \"ucr-ursa-major-lesani-lab\" --command \"cd resDB; git pull\"\n",
      "0\n",
      "gcloud compute ssh --zone \"us-west1-b\" \"resdb-041\" --project \"ucr-ursa-major-lesani-lab\" --command \"cd resDB; mkdir obj; mkdir results; sudo make clean; sudo make all > /dev/null 2>&1\"\n",
      "0\n",
      "gcloud compute ssh --zone \"us-west1-b\" \"resdb-023\" --project \"ucr-ursa-major-lesani-lab\" --command \"cd resDB; ulimit -n 4096; sudo nohup ./runcl -nid55 >../nohup_client.out 2>&1 &\"\n",
      "0\n",
      "gcloud compute ssh --zone \"us-west1-b\" \"resdb-070\" --project \"ucr-ursa-major-lesani-lab\" --command \"cd resDB; ulimit -n 4096; sudo nohup ./runcl -nid70 >../nohup_client.out 2>&1 &\"\n",
      "0\n",
      "gcloud compute ssh --zone \"us-west1-b\" \"resdb-012\" --project \"ucr-ursa-major-lesani-lab\" --command \"cd resDB; git pull\"\n",
      "0\n",
      "gcloud compute ssh --zone \"us-west1-b\" \"resdb-071\" --project \"ucr-ursa-major-lesani-lab\" --command \"cd resDB; git pull\"\n",
      "0\n",
      "gcloud compute ssh --zone \"us-west1-b\" \"resdb-046\" --project \"ucr-ursa-major-lesani-lab\" --command \"cd resDB; mkdir obj; mkdir results; sudo make clean; sudo make all > /dev/null 2>&1\"\n",
      "0\n",
      "gcloud compute ssh --zone \"us-west1-b\" \"resdb-051\" --project \"ucr-ursa-major-lesani-lab\" --command \"cd resDB; ulimit -n 4096; sudo nohup ./rundb -nid35 >../nohup_server.out 2>&1 &\"\n",
      "0\n",
      "gcloud compute ssh --zone \"us-west1-b\" \"resdb-043\" --project \"ucr-ursa-major-lesani-lab\" --command \"cd resDB; git pull\"\n",
      "0\n",
      "gcloud compute ssh --zone \"us-west1-b\" \"resdb-033\" --project \"ucr-ursa-major-lesani-lab\" --command \"cd resDB; mkdir obj; mkdir results; sudo make clean; sudo make all > /dev/null 2>&1\"\n",
      "0\n",
      "gcloud compute ssh --zone \"us-west1-b\" \"resdb-058\" --project \"ucr-ursa-major-lesani-lab\" --command \"cd resDB; ulimit -n 4096; sudo nohup ./rundb -nid42 >../nohup_server.out 2>&1 &\"\n",
      "0\n",
      "gcloud compute ssh --zone \"us-west1-b\" \"resdb-033\" --project \"ucr-ursa-major-lesani-lab\" --command \"cd resDB; git pull\"\n",
      "0\n",
      "gcloud compute ssh --zone \"us-west1-b\" \"resdb-034\" --project \"ucr-ursa-major-lesani-lab\" --command \"cd resDB; mkdir obj; mkdir results; sudo make clean; sudo make all > /dev/null 2>&1\"\n",
      "0\n",
      "gcloud compute ssh --zone \"us-west1-b\" \"resdb-037\" --project \"ucr-ursa-major-lesani-lab\" --command \"cd resDB; ulimit -n 4096; sudo nohup ./rundb -nid29 >../nohup_server.out 2>&1 &\"\n",
      "0\n",
      "gcloud compute ssh --zone \"us-west1-b\" \"resdb-000\" --project \"ucr-ursa-major-lesani-lab\" --command \"cd resDB; git pull\"\n",
      "0\n",
      "gcloud compute ssh --zone \"us-west1-b\" \"resdb-006\" --project \"ucr-ursa-major-lesani-lab\" --command \"cd resDB; mkdir obj; mkdir results; sudo make clean; sudo make all > /dev/null 2>&1\"\n",
      "0\n",
      "gcloud compute ssh --zone \"us-west1-b\" \"resdb-004\" --project \"ucr-ursa-major-lesani-lab\" --command \"cd resDB; ulimit -n 4096; sudo nohup ./rundb -nid4 >../nohup_server.out 2>&1 &\"\n",
      "0\n",
      "gcloud compute ssh --zone \"us-west1-b\" \"resdb-069\" --project \"ucr-ursa-major-lesani-lab\" --command \"cd resDB; ulimit -n 4096; sudo nohup ./runcl -nid69 >../nohup_client.out 2>&1 &\"\n",
      "0\n",
      "gcloud compute ssh --zone \"us-west1-b\" \"resdb-018\" --project \"ucr-ursa-major-lesani-lab\" --command \"cd resDB; git pull\"\n",
      "0\n",
      "gcloud compute ssh --zone \"us-west1-b\" \"resdb-069\" --project \"ucr-ursa-major-lesani-lab\" --command \"cd resDB; git pull\"\n",
      "0\n",
      "gcloud compute ssh --zone \"us-west1-b\" \"resdb-042\" --project \"ucr-ursa-major-lesani-lab\" --command \"cd resDB; mkdir obj; mkdir results; sudo make clean; sudo make all > /dev/null 2>&1\"\n",
      "0\n",
      "gcloud compute ssh --zone \"us-west1-b\" \"resdb-059\" --project \"ucr-ursa-major-lesani-lab\" --command \"cd resDB; ulimit -n 4096; sudo nohup ./rundb -nid43 >../nohup_server.out 2>&1 &\"\n",
      "0\n"
     ]
    },
    {
     "name": "stderr",
     "output_type": "stream",
     "text": [
      "runcl: no process found\n",
      "runcl: no process found\n",
      "runcl: no process found\n",
      "runcl: no process found\n",
      "runcl: no process found\n",
      "runcl: no process found\n",
      "rundb: no process found\n",
      "rundb: no process found\n",
      "runcl: no process found\n",
      "runcl: no process found\n",
      "rundb: no process found\n",
      "rundb: no process found\n",
      "rundb: no process found\n",
      "runcl: no process found\n",
      "runcl: no process found\n",
      "runcl: no process found\n",
      "runcl: no process found\n",
      "runcl: no process found\n",
      "runcl: no process found\n",
      "runcl: no process found\n",
      "rundb: no process found\n",
      "runcl: no process found\n",
      "runcl: no process found\n",
      "runcl: no process found\n",
      "rundb: no process found\n",
      "runcl: no process found\n",
      "runcl: no process found\n",
      "runcl: no process found\n",
      "rundb: no process found\n",
      "rundb: no process found\n",
      "rundb: no process found\n",
      "rundb: no process found\n",
      "runcl: no process found\n",
      "runcl: no process found\n",
      "rundb: no process found\n",
      "rundb: no process found\n",
      "runcl: no process found\n",
      "runcl: no process found\n",
      "rundb: no process found\n",
      "runcl: no process found\n",
      "rundb: no process found\n",
      "runcl: no process found\n",
      "rundb: no process found\n",
      "runcl: no process found\n",
      "rundb: no process found\n",
      "rundb: no process found\n",
      "runcl: no process found\n",
      "runcl: no process found\n",
      "runcl: no process found\n",
      "runcl: no process found\n",
      "runcl: no process found\n",
      "runcl: no process found\n",
      "runcl: no process found\n",
      "runcl: no process found\n",
      "runcl: no process found\n",
      "runcl: no process found\n",
      "runcl: no process found\n",
      "rundb: no process found\n",
      "runcl: no process found\n",
      "runcl: no process found\n",
      "runcl: no process found\n",
      "runcl: no process found\n",
      "runcl: no process found\n",
      "runcl: no process found\n",
      "runcl: no process found\n",
      "runcl: no process found\n",
      "rundb: no process found\n",
      "rundb: no process found\n",
      "rundb: no process found\n",
      "rundb: no process found\n",
      "runcl: no process found\n",
      "rundb: no process found\n",
      "rundb: no process found\n",
      "rundb: no process found\n",
      "rundb: no process found\n"
     ]
    }
   ],
   "source": [
    "    def kill_nodes(i):\n",
    "        command = 'gcloud compute ssh --zone \"'+str(node_info_dict['region'][i].strip()[1:-1])+'\" \"resdb-'+f\"{i:03}\"+'\" --project \"ucr-ursa-major-lesani-lab\" --command \"cd resDB; sudo killall rundb; sudo killall runcl\"'\n",
    "\n",
    "        print(command)\n",
    "\n",
    "        output = os.system(command)\n",
    "        print(output)\n",
    "        \n",
    "    results = Parallel(n_jobs=60)(delayed(kill_nodes)(i)\\\n",
    "                                  for i in node_info_dict['node_id'])   "
   ]
  },
  {
   "cell_type": "code",
   "execution_count": 80,
   "id": "9adaeee1",
   "metadata": {},
   "outputs": [],
   "source": [
    "\n",
    "\n",
    "for i in node_info_dict['node_id']:\n",
    "\n",
    "    if node_info_dict['ServerOrClientregion'][i]==1:\n",
    "        command = 'gcloud compute scp --zone \"'+str(node_info_dict['region'][i].strip()[1:-1]) +'\"'+' resdb-'+f\"{i:03}\"+':/home/tejas/nohup_client.out ../dump_files/nohup_client_'+str(node_info_dict['clientID'][i])+'.out'\n",
    "        os.system(command)"
   ]
  },
  {
   "cell_type": "code",
   "execution_count": 81,
   "id": "a7f30c39",
   "metadata": {},
   "outputs": [],
   "source": [
    "\n",
    "for i in [0,1,55]:\n",
    "    if node_info_dict['ServerOrClientregion'][i]==0:\n",
    "\n",
    "        command = 'gcloud compute scp --zone \"'+str(node_info_dict['region'][i].strip()[1:-1]) +'\"'+' resdb-'+f\"{i:03}\"+':/home/tejas/nohup_server.out ../dump_files/nohup_server_'+str(node_info_dict['ServerID'][i])+'.out'\n",
    "        os.system(command)"
   ]
  },
  {
   "cell_type": "code",
   "execution_count": 82,
   "id": "51cef96a",
   "metadata": {},
   "outputs": [],
   "source": [
    "# import re\n",
    "\n",
    "# # Read log file\n",
    "# with open(\"../dump_files/nohup_server_0.out\", \"r\", encoding=\"utf-8\", errors=\"ignore\") as file:\n",
    "#     logs = file.readlines()\n",
    "\n",
    "# # Pattern to extract total_runtime and interval_tput\n",
    "# runtime_pattern = re.compile(r\"total_runtime=(\\d+\\.\\d+)\")\n",
    "# tput_pattern = re.compile(r\"interval_tput=(\\d+\\.\\d+)\")\n",
    "\n",
    "# # Store extracted values\n",
    "# runtimes = []\n",
    "# throughputs = []\n",
    "\n",
    "# for line in logs:\n",
    "#     runtime_match = runtime_pattern.search(line)\n",
    "#     tput_match = tput_pattern.search(line)\n",
    "    \n",
    "#     if runtime_match and tput_match:\n",
    "#         runtime = float(runtime_match.group(1))\n",
    "#         tput = float(tput_match.group(1))\n",
    "#         runtimes.append(runtime)\n",
    "#         throughputs.append(tput)\n",
    "\n",
    "# # Find the last recorded runtime\n",
    "# if runtimes:\n",
    "#     last_time = runtimes[-1]\n",
    "#     start_time = last_time - 120\n",
    "\n",
    "#     # Filter throughput values within the last 120 seconds\n",
    "#     valid_tputs = [tput for runtime, tput in zip(runtimes, throughputs) if runtime >= start_time]\n",
    "\n",
    "#     # Compute average\n",
    "#     if valid_tputs:\n",
    "#         avg_throughput = sum(valid_tputs) / len(valid_tputs)\n",
    "#         print(f\"Average Throughput for the last 120 seconds: {avg_throughput:.2f}\")\n",
    "#     else:\n",
    "#         print(\"No data found in the last 120 seconds.\")\n",
    "# else:\n",
    "#     print(\"No valid runtime data found.\")"
   ]
  },
  {
   "cell_type": "code",
   "execution_count": 83,
   "id": "78248b2c",
   "metadata": {},
   "outputs": [],
   "source": [
    "# runtimes"
   ]
  },
  {
   "cell_type": "code",
   "execution_count": 84,
   "id": "06cc32cc",
   "metadata": {},
   "outputs": [],
   "source": [
    "# (3948404-2763200)/(175-120)"
   ]
  },
  {
   "cell_type": "code",
   "execution_count": null,
   "id": "d28fa259",
   "metadata": {},
   "outputs": [],
   "source": []
  },
  {
   "cell_type": "code",
   "execution_count": null,
   "id": "38a27dd6",
   "metadata": {},
   "outputs": [],
   "source": []
  }
 ],
 "metadata": {
  "kernelspec": {
   "display_name": "Python 3 (ipykernel)",
   "language": "python",
   "name": "python3"
  },
  "language_info": {
   "codemirror_mode": {
    "name": "ipython",
    "version": 3
   },
   "file_extension": ".py",
   "mimetype": "text/x-python",
   "name": "python",
   "nbconvert_exporter": "python",
   "pygments_lexer": "ipython3",
   "version": "3.11.5"
  }
 },
 "nbformat": 4,
 "nbformat_minor": 5
}
