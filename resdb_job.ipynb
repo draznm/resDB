{
 "cells": [
  {
   "cell_type": "code",
   "execution_count": 1,
   "id": "3b829236",
   "metadata": {},
   "outputs": [],
   "source": [
    "import time\n",
    "import re\n",
    "import pylab as pl\n",
    "import numpy as np\n",
    "import pylab as pl\n",
    "\n",
    "from datetime import datetime, timedelta\n",
    "\n",
    "import subprocess\n",
    "\n",
    "import os\n",
    "import pandas as pd\n",
    "\n",
    "import concurrent.futures\n",
    "\n",
    "\n",
    "from joblib import Parallel, delayed\n",
    "import shutil\n",
    "\n",
    "\n",
    "from concurrent.futures import ThreadPoolExecutor, ProcessPoolExecutor\n",
    "import subprocess"
   ]
  },
  {
   "cell_type": "code",
   "execution_count": 2,
   "id": "e8bb8281",
   "metadata": {},
   "outputs": [
    {
     "name": "stderr",
     "output_type": "stream",
     "text": [
      "ERROR: (gcloud.compute.instances.delete) argument INSTANCE_NAMES [INSTANCE_NAMES ...]: Must be specified.\n",
      "Usage: gcloud compute instances delete INSTANCE_NAMES [INSTANCE_NAMES ...] [optional flags]\n",
      "  optional flags may be  --delete-disks | --help | --keep-disks | --zone\n",
      "\n",
      "For detailed information on this command and its flags, run:\n",
      "  gcloud compute instances delete --help\n",
      "ERROR: (gcloud.compute.instances.delete) argument INSTANCE_NAMES [INSTANCE_NAMES ...]: Must be specified.\n",
      "Usage: gcloud compute instances delete INSTANCE_NAMES [INSTANCE_NAMES ...] [optional flags]\n",
      "  optional flags may be  --delete-disks | --help | --keep-disks | --zone\n",
      "\n",
      "For detailed information on this command and its flags, run:\n",
      "  gcloud compute instances delete --help\n",
      "ERROR: (gcloud.compute.instances.delete) argument INSTANCE_NAMES [INSTANCE_NAMES ...]: Must be specified.\n",
      "Usage: gcloud compute instances delete INSTANCE_NAMES [INSTANCE_NAMES ...] [optional flags]\n",
      "  optional flags may be  --delete-disks | --help | --keep-disks | --zone\n",
      "\n",
      "For detailed information on this command and its flags, run:\n",
      "  gcloud compute instances delete --help\n"
     ]
    },
    {
     "data": {
      "text/plain": [
       "512"
      ]
     },
     "execution_count": 2,
     "metadata": {},
     "output_type": "execute_result"
    }
   ],
   "source": [
    "os.system('gcloud compute instances delete --zone=europe-west3-c --quiet $(gcloud compute instances list --format=\"value(name)\")')\n",
    "os.system('gcloud compute instances delete --zone=asia-south1-c --quiet $(gcloud compute instances list --format=\"value(name)\")')\n",
    "os.system('gcloud compute instances delete --zone=us-west1-b --quiet $(gcloud compute instances list --format=\"value(name)\")')   \n",
    "\n"
   ]
  },
  {
   "cell_type": "code",
   "execution_count": 3,
   "id": "67246119",
   "metadata": {},
   "outputs": [
    {
     "name": "stdout",
     "output_type": "stream",
     "text": [
      "[master b711c15] fixes\n",
      " 1 file changed, 69 insertions(+), 35 deletions(-)\n"
     ]
    },
    {
     "name": "stderr",
     "output_type": "stream",
     "text": [
      "To github.com:draznm/resDB.git\n",
      "   6e7c8da..b711c15  HEAD -> master\n"
     ]
    },
    {
     "data": {
      "text/plain": [
       "0"
      ]
     },
     "execution_count": 3,
     "metadata": {},
     "output_type": "execute_result"
    }
   ],
   "source": [
    "os.system('git add .; git commit -m \"fixes\"; git push -f origin HEAD:master')\n"
   ]
  },
  {
   "cell_type": "code",
   "execution_count": 4,
   "id": "94fe4a55",
   "metadata": {},
   "outputs": [],
   "source": [
    "config_list = ['test']\n"
   ]
  },
  {
   "cell_type": "code",
   "execution_count": 5,
   "id": "36f37d9e",
   "metadata": {
    "scrolled": true
   },
   "outputs": [
    {
     "name": "stdout",
     "output_type": "stream",
     "text": [
      "{'node_id': {0: 0, 1: 1, 2: 2, 3: 3, 4: 4, 5: 5, 6: 6, 7: 7, 8: 8, 9: 9}, 'region': {0: \" 'us-west1-b'\", 1: \" 'us-west1-b'\", 2: \" 'us-west1-b'\", 3: \" 'us-west1-b'\", 4: \" 'us-west1-b'\", 5: \" 'us-west1-b'\", 6: \" 'us-west1-b'\", 7: \" 'us-west1-b'\", 8: \" 'us-west1-b'\", 9: \" 'us-west1-b'\"}, 'ServerOrClientregion': {0: 0, 1: 0, 2: 0, 3: 0, 4: 1, 5: 0, 6: 0, 7: 0, 8: 0, 9: 1}, 'cluster_id': {0: 0, 1: 0, 2: 0, 3: 0, 4: -1, 5: 1, 6: 1, 7: 1, 8: 1, 9: -1}, 'key_file': {0: \" 'FKA.pem'\", 1: \" 'FKA.pem'\", 2: \" 'FKA.pem'\", 3: \" 'FKA.pem'\", 4: \" 'FKA.pem'\", 5: \"'FKA.pem'\", 6: \"'FKA.pem'\", 7: \"'FKA.pem'\", 8: \"'FKA.pem'\", 9: \" 'FKA.pem'\"}, 'clientID': {0: -1, 1: -1, 2: -1, 3: -1, 4: 0, 5: -1, 6: -1, 7: -1, 8: -1, 9: 1}, 'ServerID': {0: 0, 1: 1, 2: 2, 3: 3, 4: -1, 5: 4, 6: 5, 7: 6, 8: 7, 9: -1}, ' PublicIp': {0: nan, 1: nan, 2: nan, 3: nan, 4: nan, 5: nan, 6: nan, 7: nan, 8: nan, 9: nan}}\n"
     ]
    },
    {
     "name": "stderr",
     "output_type": "stream",
     "text": [
      "Created [https://www.googleapis.com/compute/v1/projects/ucr-ursa-major-lesani-lab/zones/us-west1-b/instances/resdb-002].\n",
      "WARNING: Some requests generated warnings:\n",
      " - Disk size: '20 GB' is larger than image size: '10 GB'. You might need to resize the root repartition manually if the operating system does not support automatic resizing. See https://cloud.google.com/compute/docs/disks/add-persistent-disk#resize_pd for details.\n",
      "\n"
     ]
    },
    {
     "name": "stdout",
     "output_type": "stream",
     "text": [
      "NAME       ZONE        MACHINE_TYPE   PREEMPTIBLE  INTERNAL_IP  EXTERNAL_IP    STATUS\n",
      "resdb-002  us-west1-b  e2-standard-2               10.138.0.3   34.145.27.251  RUNNING\n"
     ]
    },
    {
     "name": "stderr",
     "output_type": "stream",
     "text": [
      "Created [https://www.googleapis.com/compute/v1/projects/ucr-ursa-major-lesani-lab/zones/us-west1-b/instances/resdb-001].\n",
      "Created [https://www.googleapis.com/compute/v1/projects/ucr-ursa-major-lesani-lab/zones/us-west1-b/instances/resdb-008].\n",
      "Created [https://www.googleapis.com/compute/v1/projects/ucr-ursa-major-lesani-lab/zones/us-west1-b/instances/resdb-005].\n",
      "Created [https://www.googleapis.com/compute/v1/projects/ucr-ursa-major-lesani-lab/zones/us-west1-b/instances/resdb-003].\n",
      "Created [https://www.googleapis.com/compute/v1/projects/ucr-ursa-major-lesani-lab/zones/us-west1-b/instances/resdb-004].\n",
      "Created [https://www.googleapis.com/compute/v1/projects/ucr-ursa-major-lesani-lab/zones/us-west1-b/instances/resdb-006].\n",
      "Created [https://www.googleapis.com/compute/v1/projects/ucr-ursa-major-lesani-lab/zones/us-west1-b/instances/resdb-007].\n",
      "WARNING: Some requests generated warnings:\n",
      " - Disk size: '20 GB' is larger than image size: '10 GB'. You might need to resize the root repartition manually if the operating system does not support automatic resizing. See https://cloud.google.com/compute/docs/disks/add-persistent-disk#resize_pd for details.\n",
      "\n",
      "WARNING: Some requests generated warnings:\n",
      " - Disk size: '20 GB' is larger than image size: '10 GB'. You might need to resize the root repartition manually if the operating system does not support automatic resizing. See https://cloud.google.com/compute/docs/disks/add-persistent-disk#resize_pd for details.\n",
      "\n",
      "WARNING: Some requests generated warnings:\n",
      " - Disk size: '20 GB' is larger than image size: '10 GB'. You might need to resize the root repartition manually if the operating system does not support automatic resizing. See https://cloud.google.com/compute/docs/disks/add-persistent-disk#resize_pd for details.\n",
      "\n",
      "WARNING: Some requests generated warnings:\n",
      " - Disk size: '20 GB' is larger than image size: '10 GB'. You might need to resize the root repartition manually if the operating system does not support automatic resizing. See https://cloud.google.com/compute/docs/disks/add-persistent-disk#resize_pd for details.\n",
      "\n"
     ]
    },
    {
     "name": "stdout",
     "output_type": "stream",
     "text": [
      "NAME       ZONE        MACHINE_TYPE   PREEMPTIBLE  INTERNAL_IP  EXTERNAL_IP  STATUS\n",
      "resdb-001  us-west1-b  e2-standard-2               10.138.0.63  34.127.15.0  RUNNING\n",
      "NAME       ZONE        MACHINE_TYPE   PREEMPTIBLE  INTERNAL_IP  EXTERNAL_IP    STATUS\n",
      "resdb-008  us-west1-b  e2-standard-2               10.138.0.7   35.203.157.14  RUNNING\n",
      "NAME       ZONE        MACHINE_TYPE   PREEMPTIBLE  INTERNAL_IP  EXTERNAL_IP    STATUS\n",
      "resdb-005  us-west1-b  e2-standard-2               10.138.0.60  34.83.188.221  RUNNING\n",
      "NAME       ZONE        MACHINE_TYPE   PREEMPTIBLE  INTERNAL_IP  EXTERNAL_IP   STATUS\n",
      "resdb-003  us-west1-b  e2-standard-2               10.138.0.59  34.83.13.221  RUNNING\n"
     ]
    },
    {
     "name": "stderr",
     "output_type": "stream",
     "text": [
      "WARNING: Some requests generated warnings:\n",
      " - Disk size: '20 GB' is larger than image size: '10 GB'. You might need to resize the root repartition manually if the operating system does not support automatic resizing. See https://cloud.google.com/compute/docs/disks/add-persistent-disk#resize_pd for details.\n",
      "\n",
      "WARNING: Some requests generated warnings:\n",
      " - Disk size: '20 GB' is larger than image size: '10 GB'. You might need to resize the root repartition manually if the operating system does not support automatic resizing. See https://cloud.google.com/compute/docs/disks/add-persistent-disk#resize_pd for details.\n",
      "\n",
      "WARNING: Some requests generated warnings:\n",
      " - Disk size: '20 GB' is larger than image size: '10 GB'. You might need to resize the root repartition manually if the operating system does not support automatic resizing. See https://cloud.google.com/compute/docs/disks/add-persistent-disk#resize_pd for details.\n",
      "\n"
     ]
    },
    {
     "name": "stdout",
     "output_type": "stream",
     "text": [
      "NAME       ZONE        MACHINE_TYPE   PREEMPTIBLE  INTERNAL_IP  EXTERNAL_IP     STATUS\n",
      "resdb-004  us-west1-b  e2-standard-2               10.138.0.23  34.168.158.183  RUNNING\n",
      "NAME       ZONE        MACHINE_TYPE   PREEMPTIBLE  INTERNAL_IP  EXTERNAL_IP   STATUS\n",
      "resdb-006  us-west1-b  e2-standard-2               10.138.0.26  34.82.115.35  RUNNING\n",
      "NAME       ZONE        MACHINE_TYPE   PREEMPTIBLE  INTERNAL_IP  EXTERNAL_IP   STATUS\n",
      "resdb-007  us-west1-b  e2-standard-2               10.138.0.62  34.105.36.13  RUNNING\n"
     ]
    },
    {
     "name": "stderr",
     "output_type": "stream",
     "text": [
      "Created [https://www.googleapis.com/compute/v1/projects/ucr-ursa-major-lesani-lab/zones/us-west1-b/instances/resdb-000].\n",
      "WARNING: Some requests generated warnings:\n",
      " - Disk size: '20 GB' is larger than image size: '10 GB'. You might need to resize the root repartition manually if the operating system does not support automatic resizing. See https://cloud.google.com/compute/docs/disks/add-persistent-disk#resize_pd for details.\n",
      "\n"
     ]
    },
    {
     "name": "stdout",
     "output_type": "stream",
     "text": [
      "NAME       ZONE        MACHINE_TYPE   PREEMPTIBLE  INTERNAL_IP  EXTERNAL_IP    STATUS\n",
      "resdb-000  us-west1-b  e2-standard-2               10.138.0.61  34.83.104.142  RUNNING\n"
     ]
    },
    {
     "name": "stderr",
     "output_type": "stream",
     "text": [
      "Created [https://www.googleapis.com/compute/v1/projects/ucr-ursa-major-lesani-lab/zones/us-west1-b/instances/resdb-009].\n",
      "WARNING: Some requests generated warnings:\n",
      " - Disk size: '20 GB' is larger than image size: '10 GB'. You might need to resize the root repartition manually if the operating system does not support automatic resizing. See https://cloud.google.com/compute/docs/disks/add-persistent-disk#resize_pd for details.\n",
      "\n"
     ]
    },
    {
     "name": "stdout",
     "output_type": "stream",
     "text": [
      "NAME       ZONE        MACHINE_TYPE   PREEMPTIBLE  INTERNAL_IP  EXTERNAL_IP    STATUS\n",
      "resdb-009  us-west1-b  e2-standard-2               10.138.0.56  34.168.37.201  RUNNING\n"
     ]
    },
    {
     "ename": "NameError",
     "evalue": "name 'redirect' is not defined",
     "output_type": "error",
     "traceback": [
      "\u001b[0;31m---------------------------------------------------------------------------\u001b[0m",
      "\u001b[0;31mNameError\u001b[0m                                 Traceback (most recent call last)",
      "Cell \u001b[0;32mIn[5], line 50\u001b[0m\n\u001b[1;32m     46\u001b[0m     concurrent\u001b[38;5;241m.\u001b[39mfutures\u001b[38;5;241m.\u001b[39mwait(futures)\n\u001b[1;32m     48\u001b[0m time\u001b[38;5;241m.\u001b[39msleep(\u001b[38;5;241m60\u001b[39m)\n\u001b[1;32m     49\u001b[0m os\u001b[38;5;241m.\u001b[39msystem(\u001b[38;5;124m'\u001b[39m\u001b[38;5;124mgcloud compute instances list  --format=\u001b[39m\u001b[38;5;124m\"\u001b[39m\u001b[38;5;124mvalue(networkInterfaces[0].networkIP)\u001b[39m\u001b[38;5;124m\"\u001b[39m\u001b[38;5;124m \u001b[39m\u001b[38;5;124m'\u001b[39m\u001b[38;5;241m+\u001b[39m\\\n\u001b[0;32m---> 50\u001b[0m               redirect\u001b[38;5;241m+\u001b[39m\u001b[38;5;124m'\u001b[39m\u001b[38;5;124m ifconfig.txt\u001b[39m\u001b[38;5;124m'\u001b[39m)\n\u001b[1;32m     53\u001b[0m os\u001b[38;5;241m.\u001b[39msystem(\u001b[38;5;124m'\u001b[39m\u001b[38;5;124mgit add .; git commit -m \u001b[39m\u001b[38;5;124m\"\u001b[39m\u001b[38;5;124mfixes\u001b[39m\u001b[38;5;124m\"\u001b[39m\u001b[38;5;124m; git push -f origin HEAD:master\u001b[39m\u001b[38;5;124m'\u001b[39m)\n\u001b[1;32m     55\u001b[0m \u001b[38;5;28;01mdef\u001b[39;00m \u001b[38;5;21msetup_remote\u001b[39m(i):\n",
      "\u001b[0;31mNameError\u001b[0m: name 'redirect' is not defined"
     ]
    }
   ],
   "source": [
    "for cfig in config_list:    \n",
    "    os.system('rm node_info.csv')\n",
    "    os.system('cp node_setup/'+cfig+'.csv node_info.csv')\n",
    "    \n",
    "    \n",
    "    df =pd.read_csv('node_info.csv')\n",
    "\n",
    "    node_info_dict = df.to_dict()\n",
    "\n",
    "    print(node_info_dict)\n",
    "\n",
    "    lines  = []\n",
    "\n",
    "    for idx, key in enumerate( node_info_dict['region'].keys()):\n",
    "        cmd =  'gcloud compute instances create resdb-'+f\"{idx:03}\"+' --project=ucr-ursa-major-lesani-lab --zone='+node_info_dict['region'][key].strip()[1:-1]+' --machine-type=e2-standard-2 --network-interface=network-tier=PREMIUM,stack-type=IPV4_ONLY,subnet=default \\\n",
    "        --can-ip-forward \\\n",
    "        --maintenance-policy=MIGRATE \\\n",
    "        --provisioning-model=STANDARD \\\n",
    "        --service-account=961693926925-compute@developer.gserviceaccount.com \\\n",
    "        --scopes=https://www.googleapis.com/auth/devstorage.read_only,https://www.googleapis.com/auth/logging.write,https://www.googleapis.com/auth/monitoring.write,https://www.googleapis.com/auth/service.management.readonly,https://www.googleapis.com/auth/servicecontrol,https://www.googleapis.com/auth/trace.append \\\n",
    "        --tags=http-server,https-server \\\n",
    "        --create-disk=auto-delete=yes,boot=yes,device-name=instance-20250210-072748,image=projects/ubuntu-os-cloud/global/images/ubuntu-2004-focal-v20250130,mode=rw,size=20,type=pd-balanced \\\n",
    "        --no-shielded-secure-boot \\\n",
    "        --shielded-vtpm \\\n",
    "        --shielded-integrity-monitoring \\\n",
    "        --labels=goog-ec-src=vm_add-gcloud \\\n",
    "        --reservation-affinity=any'\n",
    "\n",
    "        lines.append(cmd)\n",
    "\n",
    "\n",
    "    lines\n",
    "\n",
    "\n",
    "    def run_command(command):\n",
    "        subprocess.call(command, shell=True)\n",
    "\n",
    "    commands = lines\n",
    "\n",
    "    # Create a ThreadPoolExecutor or ProcessPoolExecutor, depending on your needs\n",
    "    with concurrent.futures.ThreadPoolExecutor(max_workers=60) as executor:\n",
    "        # Submit each command to the executor for parallel execution\n",
    "        futures = [executor.submit(run_command, command) for command in commands]\n",
    "\n",
    "        # Wait for all tasks to complete\n",
    "        concurrent.futures.wait(futures)\n",
    "        \n",
    "    time.sleep(60)\n",
    "    os.system('gcloud compute instances list  --format=\"value(networkInterfaces[0].networkIP)\" '+\\\n",
    "                  redirect+' ifconfig.txt')\n",
    "    \n",
    "    \n",
    "    os.system('git add .; git commit -m \"fixes\"; git push -f origin HEAD:master')\n",
    "\n",
    "    def setup_remote(i):\n",
    "\n",
    "        ip = node_info_dict['publicIP'][i] \n",
    "        if ip!='None':\n",
    "            command = 'gcloud compute ssh --zone \"'+str(node_info_dict['region'][i].strip()[1:-1])+'\" \"resdb-'+f\"{i:03}\"+'\" --project \"ucr-ursa-major-lesani-lab\" --command \"sudo apt -y update;sudo apt -y install build-essential; sudo add-apt-repository ppa:ubuntu-toolchain-r/test -y; sudo apt update; sudo apt install g++-7 -y; sudo rm -r resDB; git clone https://github.com/draznm/resDB.git; cd resDB; cd deps && \\ls | xargs -i tar -xvf {}\"'\n",
    "\n",
    "            print(command)\n",
    "\n",
    "            output = os.system(command)\n",
    "            print(output)\n",
    "            \n",
    "            \n",
    "    results = Parallel(n_jobs=60)(delayed(setup_remote)(i)\\\n",
    "                                  for i in node_info_dict['node_id'])\n"
   ]
  },
  {
   "cell_type": "code",
   "execution_count": null,
   "id": "4c60e7f8",
   "metadata": {},
   "outputs": [],
   "source": []
  }
 ],
 "metadata": {
  "kernelspec": {
   "display_name": "Python 3 (ipykernel)",
   "language": "python",
   "name": "python3"
  },
  "language_info": {
   "codemirror_mode": {
    "name": "ipython",
    "version": 3
   },
   "file_extension": ".py",
   "mimetype": "text/x-python",
   "name": "python",
   "nbconvert_exporter": "python",
   "pygments_lexer": "ipython3",
   "version": "3.11.5"
  }
 },
 "nbformat": 4,
 "nbformat_minor": 5
}
